{
  "nbformat": 4,
  "nbformat_minor": 0,
  "metadata": {
    "colab": {
      "provenance": []
    },
    "kernelspec": {
      "name": "python3",
      "display_name": "Python 3"
    },
    "language_info": {
      "name": "python"
    }
  },
  "cells": [
    {
      "cell_type": "markdown",
      "source": [
        "Pega a base de dados e organiza em safras, calcula o ganho de informação de cada safra em relação à target (seu ganho de informação vai ser o retorno individual de cada VP). \n",
        "\n",
        "1 - Tenha um dataframe massivo (com N colunas e uma target)\n",
        "\n",
        "2 - Verifique pela Correlação de spearman as vps que são altamente correlacionadas com relação à variável resposta. \n",
        "\n",
        "3 - Crie grupos com base na similaridade da correlação calculada no passo 2 \n",
        "\n",
        "4 - Avalie se existe diferença de performance entre os grupos\n",
        "\n",
        "5 - Ordene os datasets de cada grupo por data, treine modelos e colha as performances. A performance será o retorno e o risco sera a variabilidade dessa performance.\n",
        "\n",
        "6 - Aplique Markowitz para definir a fronteira eficiente\n",
        "\n",
        "7 - Defina a alocação ótima como maior retorno dado o menor risco possível \n",
        "\n",
        "8 - Com a alocação ótima, selecione aleatoriamente VPs dentro de cada grupo\n",
        "\n",
        "9 - Faça o Modelo com essas vps e mensure o ganho."
      ],
      "metadata": {
        "id": "pAvYwAjciVyt"
      }
    },
    {
      "cell_type": "code",
      "source": [
        "#pip install Boruta"
      ],
      "metadata": {
        "id": "1nfs6fr9AjZG"
      },
      "execution_count": null,
      "outputs": []
    },
    {
      "cell_type": "code",
      "execution_count": null,
      "metadata": {
        "id": "hnG_wdpFdjoz"
      },
      "outputs": [],
      "source": [
        "import pandas as pd\n",
        "import math\n",
        "from numpy.random import rand\n",
        "from numpy.random import seed\n",
        "from sklearn import preprocessing\n",
        "from sklearn.model_selection import train_test_split\n",
        "from scipy.stats import spearmanr\n",
        "import numpy as np\n",
        "import matplotlib.pyplot as plt\n",
        "from scipy import stats\n",
        "import re\n",
        "from functools import reduce\n",
        "from sklearn.ensemble import RandomForestClassifier\n",
        "from scipy.optimize import Bounds,  minimize\n",
        "from sklearn.metrics import mean_squared_error\n",
        "from sklearn.model_selection import train_test_split\n",
        "from sklearn.neural_network import MLPRegressor\n",
        "import seaborn as sns \n",
        "import random\n",
        "import time\n",
        "import os\n",
        "import warnings\n",
        "warnings.filterwarnings(\"ignore\")\n",
        "import lightgbm as lgb\n",
        "from sklearn.metrics import accuracy_score\n",
        "from sklearn.feature_selection import mutual_info_classif\n",
        "from sklearn.feature_extraction.text import CountVectorizer\n",
        "import requests\n",
        "#from boruta import BorutaPy\n",
        "from sklearn.feature_selection import mutual_info_classif\n",
        "from sklearn.feature_selection import SelectKBest\n",
        "from sklearn.ensemble import ExtraTreesClassifier\n"
      ]
    },
    {
      "cell_type": "markdown",
      "source": [
        "#1 - Criando Conjunto de Dados Simulado"
      ],
      "metadata": {
        "id": "NsoyCZbcy3TA"
      }
    },
    {
      "cell_type": "code",
      "source": [
        "def gera_data_frame(n,p,m,q=None):\n",
        "  #n = número de linhas do dataframe \n",
        "  #p = número de variáveis preditoras\n",
        "  #m = limite do domínio das variáveis preditoras, sendo o mínimo igual a 1\n",
        "  #q = Número de safras temporais na base de dados (default é de 30 safras por TCL)\n",
        "  if q is None:\n",
        "         q = n/30\n",
        "  df = pd.DataFrame({'index':list(range(0,n))})\n",
        "  import random\n",
        "  for i in range(0,p):\n",
        "    w = random.randint(1,m)\n",
        "    df['v'+str(i)] = random.choices(list(range(0, w)), k=n)\n",
        "  df = df.drop(['index'],axis=1)\n",
        "  vp_resposta=[]\n",
        "  for z in range(0,n):\n",
        "    numero_aleatorio = round(random.random())\n",
        "    if (numero_aleatorio ==1) & (df.sum(axis=1)> (df.sum(axis=1)).mean())[z]:\n",
        "      numero_aleatorio = 1\n",
        "    else:\n",
        "      numero_aleatorio = 0\n",
        "    vp_resposta.append(numero_aleatorio)\n",
        "  df['target'] = vp_resposta\n",
        "  safras = (list(range(0,q))*int(n/q))\n",
        "  safras.sort(reverse=False)\n",
        "  safras = safras + [max(safras)]*(n - len(safras))\n",
        "  df['safra'] = safras\n",
        "  return df \n"
      ],
      "metadata": {
        "id": "FnMGlFjqy8-e"
      },
      "execution_count": null,
      "outputs": []
    },
    {
      "cell_type": "markdown",
      "source": [
        "##1.1 Simulação com Dataframe de 100000 observações, 1000 preditores com domínio até 200, distribuídos em 25 safras)"
      ],
      "metadata": {
        "id": "nv2MeXOy0CGn"
      }
    },
    {
      "cell_type": "code",
      "source": [
        "df = gera_data_frame(10000,1000,200,25)\n",
        "df.shape"
      ],
      "metadata": {
        "id": "OM5e4-liy80u",
        "colab": {
          "base_uri": "https://localhost:8080/"
        },
        "outputId": "392930bd-f16a-427b-8f44-e865f74e6679"
      },
      "execution_count": null,
      "outputs": [
        {
          "output_type": "execute_result",
          "data": {
            "text/plain": [
              "(10000, 1002)"
            ]
          },
          "metadata": {},
          "execution_count": 7
        }
      ]
    },
    {
      "cell_type": "code",
      "source": [
        "df.head(5)"
      ],
      "metadata": {
        "id": "X1HE7vuT-Tua",
        "colab": {
          "base_uri": "https://localhost:8080/",
          "height": 235
        },
        "outputId": "14fb49bb-15fa-41b8-908e-7b08e583ad77"
      },
      "execution_count": null,
      "outputs": [
        {
          "output_type": "execute_result",
          "data": {
            "text/plain": [
              "   v0   v1  v2   v3  v4  v5  v6   v7  v8  v9  ...  v992  v993  v994  v995  \\\n",
              "0  47  175  34   62  81  39  39   89   0   5  ...     7    15    25    18   \n",
              "1   3   50  12   45  40  11  31  123  14  28  ...    54    36    89    34   \n",
              "2   8   13  56    4   4  25  18   87  12  30  ...    17    11    92    19   \n",
              "3  27   22  15  147  74   2  40   68   5   6  ...    76    13    34    10   \n",
              "4  36   48  55  104   1   0  54  100  20  46  ...     1     9    10     5   \n",
              "\n",
              "   v996  v997  v998  v999  target  safra  \n",
              "0     2    36    12     4       1      0  \n",
              "1     1     0    11     9       1      0  \n",
              "2     5   102     0    12       1      0  \n",
              "3     9   116    20     6       0      0  \n",
              "4    11   105    27     3       1      0  \n",
              "\n",
              "[5 rows x 1002 columns]"
            ],
            "text/html": [
              "\n",
              "  <div id=\"df-33094a4c-3ad0-47d1-a806-f3cbbede5957\">\n",
              "    <div class=\"colab-df-container\">\n",
              "      <div>\n",
              "<style scoped>\n",
              "    .dataframe tbody tr th:only-of-type {\n",
              "        vertical-align: middle;\n",
              "    }\n",
              "\n",
              "    .dataframe tbody tr th {\n",
              "        vertical-align: top;\n",
              "    }\n",
              "\n",
              "    .dataframe thead th {\n",
              "        text-align: right;\n",
              "    }\n",
              "</style>\n",
              "<table border=\"1\" class=\"dataframe\">\n",
              "  <thead>\n",
              "    <tr style=\"text-align: right;\">\n",
              "      <th></th>\n",
              "      <th>v0</th>\n",
              "      <th>v1</th>\n",
              "      <th>v2</th>\n",
              "      <th>v3</th>\n",
              "      <th>v4</th>\n",
              "      <th>v5</th>\n",
              "      <th>v6</th>\n",
              "      <th>v7</th>\n",
              "      <th>v8</th>\n",
              "      <th>v9</th>\n",
              "      <th>...</th>\n",
              "      <th>v992</th>\n",
              "      <th>v993</th>\n",
              "      <th>v994</th>\n",
              "      <th>v995</th>\n",
              "      <th>v996</th>\n",
              "      <th>v997</th>\n",
              "      <th>v998</th>\n",
              "      <th>v999</th>\n",
              "      <th>target</th>\n",
              "      <th>safra</th>\n",
              "    </tr>\n",
              "  </thead>\n",
              "  <tbody>\n",
              "    <tr>\n",
              "      <th>0</th>\n",
              "      <td>47</td>\n",
              "      <td>175</td>\n",
              "      <td>34</td>\n",
              "      <td>62</td>\n",
              "      <td>81</td>\n",
              "      <td>39</td>\n",
              "      <td>39</td>\n",
              "      <td>89</td>\n",
              "      <td>0</td>\n",
              "      <td>5</td>\n",
              "      <td>...</td>\n",
              "      <td>7</td>\n",
              "      <td>15</td>\n",
              "      <td>25</td>\n",
              "      <td>18</td>\n",
              "      <td>2</td>\n",
              "      <td>36</td>\n",
              "      <td>12</td>\n",
              "      <td>4</td>\n",
              "      <td>1</td>\n",
              "      <td>0</td>\n",
              "    </tr>\n",
              "    <tr>\n",
              "      <th>1</th>\n",
              "      <td>3</td>\n",
              "      <td>50</td>\n",
              "      <td>12</td>\n",
              "      <td>45</td>\n",
              "      <td>40</td>\n",
              "      <td>11</td>\n",
              "      <td>31</td>\n",
              "      <td>123</td>\n",
              "      <td>14</td>\n",
              "      <td>28</td>\n",
              "      <td>...</td>\n",
              "      <td>54</td>\n",
              "      <td>36</td>\n",
              "      <td>89</td>\n",
              "      <td>34</td>\n",
              "      <td>1</td>\n",
              "      <td>0</td>\n",
              "      <td>11</td>\n",
              "      <td>9</td>\n",
              "      <td>1</td>\n",
              "      <td>0</td>\n",
              "    </tr>\n",
              "    <tr>\n",
              "      <th>2</th>\n",
              "      <td>8</td>\n",
              "      <td>13</td>\n",
              "      <td>56</td>\n",
              "      <td>4</td>\n",
              "      <td>4</td>\n",
              "      <td>25</td>\n",
              "      <td>18</td>\n",
              "      <td>87</td>\n",
              "      <td>12</td>\n",
              "      <td>30</td>\n",
              "      <td>...</td>\n",
              "      <td>17</td>\n",
              "      <td>11</td>\n",
              "      <td>92</td>\n",
              "      <td>19</td>\n",
              "      <td>5</td>\n",
              "      <td>102</td>\n",
              "      <td>0</td>\n",
              "      <td>12</td>\n",
              "      <td>1</td>\n",
              "      <td>0</td>\n",
              "    </tr>\n",
              "    <tr>\n",
              "      <th>3</th>\n",
              "      <td>27</td>\n",
              "      <td>22</td>\n",
              "      <td>15</td>\n",
              "      <td>147</td>\n",
              "      <td>74</td>\n",
              "      <td>2</td>\n",
              "      <td>40</td>\n",
              "      <td>68</td>\n",
              "      <td>5</td>\n",
              "      <td>6</td>\n",
              "      <td>...</td>\n",
              "      <td>76</td>\n",
              "      <td>13</td>\n",
              "      <td>34</td>\n",
              "      <td>10</td>\n",
              "      <td>9</td>\n",
              "      <td>116</td>\n",
              "      <td>20</td>\n",
              "      <td>6</td>\n",
              "      <td>0</td>\n",
              "      <td>0</td>\n",
              "    </tr>\n",
              "    <tr>\n",
              "      <th>4</th>\n",
              "      <td>36</td>\n",
              "      <td>48</td>\n",
              "      <td>55</td>\n",
              "      <td>104</td>\n",
              "      <td>1</td>\n",
              "      <td>0</td>\n",
              "      <td>54</td>\n",
              "      <td>100</td>\n",
              "      <td>20</td>\n",
              "      <td>46</td>\n",
              "      <td>...</td>\n",
              "      <td>1</td>\n",
              "      <td>9</td>\n",
              "      <td>10</td>\n",
              "      <td>5</td>\n",
              "      <td>11</td>\n",
              "      <td>105</td>\n",
              "      <td>27</td>\n",
              "      <td>3</td>\n",
              "      <td>1</td>\n",
              "      <td>0</td>\n",
              "    </tr>\n",
              "  </tbody>\n",
              "</table>\n",
              "<p>5 rows × 1002 columns</p>\n",
              "</div>\n",
              "      <button class=\"colab-df-convert\" onclick=\"convertToInteractive('df-33094a4c-3ad0-47d1-a806-f3cbbede5957')\"\n",
              "              title=\"Convert this dataframe to an interactive table.\"\n",
              "              style=\"display:none;\">\n",
              "        \n",
              "  <svg xmlns=\"http://www.w3.org/2000/svg\" height=\"24px\"viewBox=\"0 0 24 24\"\n",
              "       width=\"24px\">\n",
              "    <path d=\"M0 0h24v24H0V0z\" fill=\"none\"/>\n",
              "    <path d=\"M18.56 5.44l.94 2.06.94-2.06 2.06-.94-2.06-.94-.94-2.06-.94 2.06-2.06.94zm-11 1L8.5 8.5l.94-2.06 2.06-.94-2.06-.94L8.5 2.5l-.94 2.06-2.06.94zm10 10l.94 2.06.94-2.06 2.06-.94-2.06-.94-.94-2.06-.94 2.06-2.06.94z\"/><path d=\"M17.41 7.96l-1.37-1.37c-.4-.4-.92-.59-1.43-.59-.52 0-1.04.2-1.43.59L10.3 9.45l-7.72 7.72c-.78.78-.78 2.05 0 2.83L4 21.41c.39.39.9.59 1.41.59.51 0 1.02-.2 1.41-.59l7.78-7.78 2.81-2.81c.8-.78.8-2.07 0-2.86zM5.41 20L4 18.59l7.72-7.72 1.47 1.35L5.41 20z\"/>\n",
              "  </svg>\n",
              "      </button>\n",
              "      \n",
              "  <style>\n",
              "    .colab-df-container {\n",
              "      display:flex;\n",
              "      flex-wrap:wrap;\n",
              "      gap: 12px;\n",
              "    }\n",
              "\n",
              "    .colab-df-convert {\n",
              "      background-color: #E8F0FE;\n",
              "      border: none;\n",
              "      border-radius: 50%;\n",
              "      cursor: pointer;\n",
              "      display: none;\n",
              "      fill: #1967D2;\n",
              "      height: 32px;\n",
              "      padding: 0 0 0 0;\n",
              "      width: 32px;\n",
              "    }\n",
              "\n",
              "    .colab-df-convert:hover {\n",
              "      background-color: #E2EBFA;\n",
              "      box-shadow: 0px 1px 2px rgba(60, 64, 67, 0.3), 0px 1px 3px 1px rgba(60, 64, 67, 0.15);\n",
              "      fill: #174EA6;\n",
              "    }\n",
              "\n",
              "    [theme=dark] .colab-df-convert {\n",
              "      background-color: #3B4455;\n",
              "      fill: #D2E3FC;\n",
              "    }\n",
              "\n",
              "    [theme=dark] .colab-df-convert:hover {\n",
              "      background-color: #434B5C;\n",
              "      box-shadow: 0px 1px 3px 1px rgba(0, 0, 0, 0.15);\n",
              "      filter: drop-shadow(0px 1px 2px rgba(0, 0, 0, 0.3));\n",
              "      fill: #FFFFFF;\n",
              "    }\n",
              "  </style>\n",
              "\n",
              "      <script>\n",
              "        const buttonEl =\n",
              "          document.querySelector('#df-33094a4c-3ad0-47d1-a806-f3cbbede5957 button.colab-df-convert');\n",
              "        buttonEl.style.display =\n",
              "          google.colab.kernel.accessAllowed ? 'block' : 'none';\n",
              "\n",
              "        async function convertToInteractive(key) {\n",
              "          const element = document.querySelector('#df-33094a4c-3ad0-47d1-a806-f3cbbede5957');\n",
              "          const dataTable =\n",
              "            await google.colab.kernel.invokeFunction('convertToInteractive',\n",
              "                                                     [key], {});\n",
              "          if (!dataTable) return;\n",
              "\n",
              "          const docLinkHtml = 'Like what you see? Visit the ' +\n",
              "            '<a target=\"_blank\" href=https://colab.research.google.com/notebooks/data_table.ipynb>data table notebook</a>'\n",
              "            + ' to learn more about interactive tables.';\n",
              "          element.innerHTML = '';\n",
              "          dataTable['output_type'] = 'display_data';\n",
              "          await google.colab.output.renderOutput(dataTable, element);\n",
              "          const docLink = document.createElement('div');\n",
              "          docLink.innerHTML = docLinkHtml;\n",
              "          element.appendChild(docLink);\n",
              "        }\n",
              "      </script>\n",
              "    </div>\n",
              "  </div>\n",
              "  "
            ]
          },
          "metadata": {},
          "execution_count": 8
        }
      ]
    },
    {
      "cell_type": "markdown",
      "source": [
        "##1.2 Calculando a Correlação via Spearman e Pearson das Preditoras em relação a variável resposta"
      ],
      "metadata": {
        "id": "oS2_a0Ut37rx"
      }
    },
    {
      "cell_type": "code",
      "source": [
        "#df.drop(['game_result'],axis=1).corr()\n",
        "#df.corr(method= 'spearman')\n",
        "target = 'target'\n",
        "variaveis = df.columns.drop(['target','safra'])\n",
        "correlacoes_p = []\n",
        "correlacoes_s = []\n",
        "\n",
        "for COLUNA in variaveis:\n",
        "  correlacoes_p.append(np.round(df[target].corr(df[COLUNA]),2))\n",
        "  correlacao, p = spearmanr(df[target], df[COLUNA])\n",
        "  correlacoes_s.append(np.round(correlacao,2))\n",
        "df_cor = pd.DataFrame({'Variaveis': variaveis, 'Correlacoes_S': correlacoes_s, 'Correlacoes_P': correlacoes_p})\n",
        "#df_cor.sort_values(by=['Correlacoes'])\n",
        "#df_cor.Correlacoes.min()\n",
        "#df_cor.Correlacoes.max()\n",
        "#df_cor.Correlacoes.quantile(q=0.75)\n",
        "#df_cor.Correlacoes.quantile(q=0.25)\n",
        "#df_cor.Correlacoes.quantile(q=0.5)\n"
      ],
      "metadata": {
        "id": "q8tTswHJ-kd2"
      },
      "execution_count": null,
      "outputs": []
    },
    {
      "cell_type": "code",
      "source": [
        "df_cor.sort_values(by=['Correlacoes_S'])"
      ],
      "metadata": {
        "id": "sw7qyy1oytuR",
        "colab": {
          "base_uri": "https://localhost:8080/",
          "height": 423
        },
        "outputId": "2d10418a-5d5d-4e99-e514-d86505fc7e28"
      },
      "execution_count": null,
      "outputs": [
        {
          "output_type": "execute_result",
          "data": {
            "text/plain": [
              "    Variaveis  Correlacoes_S  Correlacoes_P\n",
              "863      v863          -0.04          -0.04\n",
              "31        v31          -0.02          -0.02\n",
              "510      v510          -0.02          -0.02\n",
              "752      v752          -0.02          -0.02\n",
              "773      v773          -0.02          -0.02\n",
              "..        ...            ...            ...\n",
              "978      v978           0.05           0.05\n",
              "333      v333            NaN            NaN\n",
              "364      v364            NaN            NaN\n",
              "417      v417            NaN            NaN\n",
              "727      v727            NaN            NaN\n",
              "\n",
              "[1000 rows x 3 columns]"
            ],
            "text/html": [
              "\n",
              "  <div id=\"df-019107ab-ff5f-42b9-808b-185f95f6b35e\">\n",
              "    <div class=\"colab-df-container\">\n",
              "      <div>\n",
              "<style scoped>\n",
              "    .dataframe tbody tr th:only-of-type {\n",
              "        vertical-align: middle;\n",
              "    }\n",
              "\n",
              "    .dataframe tbody tr th {\n",
              "        vertical-align: top;\n",
              "    }\n",
              "\n",
              "    .dataframe thead th {\n",
              "        text-align: right;\n",
              "    }\n",
              "</style>\n",
              "<table border=\"1\" class=\"dataframe\">\n",
              "  <thead>\n",
              "    <tr style=\"text-align: right;\">\n",
              "      <th></th>\n",
              "      <th>Variaveis</th>\n",
              "      <th>Correlacoes_S</th>\n",
              "      <th>Correlacoes_P</th>\n",
              "    </tr>\n",
              "  </thead>\n",
              "  <tbody>\n",
              "    <tr>\n",
              "      <th>863</th>\n",
              "      <td>v863</td>\n",
              "      <td>-0.04</td>\n",
              "      <td>-0.04</td>\n",
              "    </tr>\n",
              "    <tr>\n",
              "      <th>31</th>\n",
              "      <td>v31</td>\n",
              "      <td>-0.02</td>\n",
              "      <td>-0.02</td>\n",
              "    </tr>\n",
              "    <tr>\n",
              "      <th>510</th>\n",
              "      <td>v510</td>\n",
              "      <td>-0.02</td>\n",
              "      <td>-0.02</td>\n",
              "    </tr>\n",
              "    <tr>\n",
              "      <th>752</th>\n",
              "      <td>v752</td>\n",
              "      <td>-0.02</td>\n",
              "      <td>-0.02</td>\n",
              "    </tr>\n",
              "    <tr>\n",
              "      <th>773</th>\n",
              "      <td>v773</td>\n",
              "      <td>-0.02</td>\n",
              "      <td>-0.02</td>\n",
              "    </tr>\n",
              "    <tr>\n",
              "      <th>...</th>\n",
              "      <td>...</td>\n",
              "      <td>...</td>\n",
              "      <td>...</td>\n",
              "    </tr>\n",
              "    <tr>\n",
              "      <th>978</th>\n",
              "      <td>v978</td>\n",
              "      <td>0.05</td>\n",
              "      <td>0.05</td>\n",
              "    </tr>\n",
              "    <tr>\n",
              "      <th>333</th>\n",
              "      <td>v333</td>\n",
              "      <td>NaN</td>\n",
              "      <td>NaN</td>\n",
              "    </tr>\n",
              "    <tr>\n",
              "      <th>364</th>\n",
              "      <td>v364</td>\n",
              "      <td>NaN</td>\n",
              "      <td>NaN</td>\n",
              "    </tr>\n",
              "    <tr>\n",
              "      <th>417</th>\n",
              "      <td>v417</td>\n",
              "      <td>NaN</td>\n",
              "      <td>NaN</td>\n",
              "    </tr>\n",
              "    <tr>\n",
              "      <th>727</th>\n",
              "      <td>v727</td>\n",
              "      <td>NaN</td>\n",
              "      <td>NaN</td>\n",
              "    </tr>\n",
              "  </tbody>\n",
              "</table>\n",
              "<p>1000 rows × 3 columns</p>\n",
              "</div>\n",
              "      <button class=\"colab-df-convert\" onclick=\"convertToInteractive('df-019107ab-ff5f-42b9-808b-185f95f6b35e')\"\n",
              "              title=\"Convert this dataframe to an interactive table.\"\n",
              "              style=\"display:none;\">\n",
              "        \n",
              "  <svg xmlns=\"http://www.w3.org/2000/svg\" height=\"24px\"viewBox=\"0 0 24 24\"\n",
              "       width=\"24px\">\n",
              "    <path d=\"M0 0h24v24H0V0z\" fill=\"none\"/>\n",
              "    <path d=\"M18.56 5.44l.94 2.06.94-2.06 2.06-.94-2.06-.94-.94-2.06-.94 2.06-2.06.94zm-11 1L8.5 8.5l.94-2.06 2.06-.94-2.06-.94L8.5 2.5l-.94 2.06-2.06.94zm10 10l.94 2.06.94-2.06 2.06-.94-2.06-.94-.94-2.06-.94 2.06-2.06.94z\"/><path d=\"M17.41 7.96l-1.37-1.37c-.4-.4-.92-.59-1.43-.59-.52 0-1.04.2-1.43.59L10.3 9.45l-7.72 7.72c-.78.78-.78 2.05 0 2.83L4 21.41c.39.39.9.59 1.41.59.51 0 1.02-.2 1.41-.59l7.78-7.78 2.81-2.81c.8-.78.8-2.07 0-2.86zM5.41 20L4 18.59l7.72-7.72 1.47 1.35L5.41 20z\"/>\n",
              "  </svg>\n",
              "      </button>\n",
              "      \n",
              "  <style>\n",
              "    .colab-df-container {\n",
              "      display:flex;\n",
              "      flex-wrap:wrap;\n",
              "      gap: 12px;\n",
              "    }\n",
              "\n",
              "    .colab-df-convert {\n",
              "      background-color: #E8F0FE;\n",
              "      border: none;\n",
              "      border-radius: 50%;\n",
              "      cursor: pointer;\n",
              "      display: none;\n",
              "      fill: #1967D2;\n",
              "      height: 32px;\n",
              "      padding: 0 0 0 0;\n",
              "      width: 32px;\n",
              "    }\n",
              "\n",
              "    .colab-df-convert:hover {\n",
              "      background-color: #E2EBFA;\n",
              "      box-shadow: 0px 1px 2px rgba(60, 64, 67, 0.3), 0px 1px 3px 1px rgba(60, 64, 67, 0.15);\n",
              "      fill: #174EA6;\n",
              "    }\n",
              "\n",
              "    [theme=dark] .colab-df-convert {\n",
              "      background-color: #3B4455;\n",
              "      fill: #D2E3FC;\n",
              "    }\n",
              "\n",
              "    [theme=dark] .colab-df-convert:hover {\n",
              "      background-color: #434B5C;\n",
              "      box-shadow: 0px 1px 3px 1px rgba(0, 0, 0, 0.15);\n",
              "      filter: drop-shadow(0px 1px 2px rgba(0, 0, 0, 0.3));\n",
              "      fill: #FFFFFF;\n",
              "    }\n",
              "  </style>\n",
              "\n",
              "      <script>\n",
              "        const buttonEl =\n",
              "          document.querySelector('#df-019107ab-ff5f-42b9-808b-185f95f6b35e button.colab-df-convert');\n",
              "        buttonEl.style.display =\n",
              "          google.colab.kernel.accessAllowed ? 'block' : 'none';\n",
              "\n",
              "        async function convertToInteractive(key) {\n",
              "          const element = document.querySelector('#df-019107ab-ff5f-42b9-808b-185f95f6b35e');\n",
              "          const dataTable =\n",
              "            await google.colab.kernel.invokeFunction('convertToInteractive',\n",
              "                                                     [key], {});\n",
              "          if (!dataTable) return;\n",
              "\n",
              "          const docLinkHtml = 'Like what you see? Visit the ' +\n",
              "            '<a target=\"_blank\" href=https://colab.research.google.com/notebooks/data_table.ipynb>data table notebook</a>'\n",
              "            + ' to learn more about interactive tables.';\n",
              "          element.innerHTML = '';\n",
              "          dataTable['output_type'] = 'display_data';\n",
              "          await google.colab.output.renderOutput(dataTable, element);\n",
              "          const docLink = document.createElement('div');\n",
              "          docLink.innerHTML = docLinkHtml;\n",
              "          element.appendChild(docLink);\n",
              "        }\n",
              "      </script>\n",
              "    </div>\n",
              "  </div>\n",
              "  "
            ]
          },
          "metadata": {},
          "execution_count": 10
        }
      ]
    },
    {
      "cell_type": "code",
      "source": [
        "df_cor.sort_values(by=['Correlacoes_S'])['Correlacoes_S'].max(),df_cor.sort_values(by=['Correlacoes_S'])['Correlacoes_S'].min()"
      ],
      "metadata": {
        "id": "RoiK8y6s9SHW",
        "colab": {
          "base_uri": "https://localhost:8080/"
        },
        "outputId": "7932e532-571e-44f7-d992-4e675b73e13a"
      },
      "execution_count": null,
      "outputs": [
        {
          "output_type": "execute_result",
          "data": {
            "text/plain": [
              "(0.05, -0.04)"
            ]
          },
          "metadata": {},
          "execution_count": 11
        }
      ]
    },
    {
      "cell_type": "markdown",
      "source": [
        "##1.2.1 Estimando a Acurácia da Base Completa"
      ],
      "metadata": {
        "id": "TVOOC1nMFZsD"
      }
    },
    {
      "cell_type": "code",
      "source": [
        "  entrada = time.perf_counter()\n",
        "  X_train, X_test,y_train, y__test= train_test_split(df[variaveis], df[target], test_size = 0.3)\n",
        "  clf = lgb.LGBMClassifier()\n",
        "  clf.fit(X_train, y_train)\n",
        "  predicao = clf.predict(X_test)\n",
        "  acuracia_total = accuracy_score(predicao, y__test)\n",
        "  acuracia_total\n",
        "  saida = time.perf_counter()\n",
        "  tempo = saida - entrada \n",
        "  'O algoritmo levou '+str(round(tempo,0))+' segundos para rodar com todas as variáveis preditoras, obtedo uma acurácia de '+ str(acuracia_total)+'.'"
      ],
      "metadata": {
        "id": "_QlQP15IFbQc",
        "colab": {
          "base_uri": "https://localhost:8080/",
          "height": 36
        },
        "outputId": "b2c1e745-1f6b-41e3-d832-796c2404fe53"
      },
      "execution_count": null,
      "outputs": [
        {
          "output_type": "execute_result",
          "data": {
            "text/plain": [
              "'O algoritmo levou 13.0 segundos para rodar com todas as variáveis preditoras, obtedo uma acurácia de 0.7576666666666667.'"
            ],
            "application/vnd.google.colaboratory.intrinsic+json": {
              "type": "string"
            }
          },
          "metadata": {},
          "execution_count": 13
        }
      ]
    },
    {
      "cell_type": "markdown",
      "source": [
        "##1.2.2 Estimando a Acurácia da Base Completa, reduzindo a dimensionalidade pelo Ganho de Informação"
      ],
      "metadata": {
        "id": "shJdV1yF_dH1"
      }
    },
    {
      "cell_type": "code",
      "source": [
        "entrada = time.perf_counter()\n",
        "X_train_mutual_info, X_test_mutual_info,y_train_mutual_info, y__test_mutual_info= train_test_split(df[variaveis], df[target].to_numpy(), test_size = 0.3)\n",
        "mutual_info = mutual_info_classif(X_train_mutual_info, y_train_mutual_info)\n",
        "mutual_info = pd.Series(mutual_info)\n",
        "mutual_info.index = X_train_mutual_info.columns\n",
        "lista_vp_filtrada = mutual_info[mutual_info.sort_values(ascending=False)>0] #Ganho de Informação maior que zero\n",
        "sel_cols = SelectKBest(mutual_info_classif, k=len(lista_vp_filtrada))\n",
        "sel_cols.fit(X_train_mutual_info, y_train_mutual_info)\n",
        "X_filtrado = df[X_train_mutual_info.columns[sel_cols.get_support()]]\n",
        "X_train, X_test,y_train, y_test= train_test_split(X_filtrado, df[target], test_size = 0.3)\n",
        "clf = lgb.LGBMClassifier()\n",
        "clf.fit(X_train, y_train)\n",
        "predicao = clf.predict(X_test)\n",
        "acuracia_total = accuracy_score(predicao, y_test)\n",
        "saida = time.perf_counter()\n",
        "tempo = saida - entrada \n",
        "'O algoritmo levou '+str(round(tempo,0))+' segundos para rodar e deixou '+str(len(lista_vp_filtrada))+' variáveis preditoras com uma acurácia de '+ str(acuracia_total)+'.'\n"
      ],
      "metadata": {
        "id": "oRoIbNRoHm_5",
        "colab": {
          "base_uri": "https://localhost:8080/",
          "height": 36
        },
        "outputId": "286f23b4-f1c0-4c7e-cd65-530760e6a78b"
      },
      "execution_count": null,
      "outputs": [
        {
          "output_type": "execute_result",
          "data": {
            "text/plain": [
              "'O algoritmo levou 74.0 segundos para rodar e deixou 531 variáveis preditoras com uma acurácia de 0.7373333333333333.'"
            ],
            "application/vnd.google.colaboratory.intrinsic+json": {
              "type": "string"
            }
          },
          "metadata": {},
          "execution_count": 14
        }
      ]
    },
    {
      "cell_type": "markdown",
      "source": [
        "##1.2.3 Estimando a Acurácia da Base Completa, reduzindo a dimensionalidade pelo Algoritmo de Árvores Extremamente Aleatórias"
      ],
      "metadata": {
        "id": "aoQfBe6o_lyF"
      }
    },
    {
      "cell_type": "code",
      "source": [
        "entrada = time.perf_counter()\n",
        "def funcao_variaveis_importantes(DADOS,varesp = 'y'):\n",
        "        X = DADOS.loc [:, DADOS.columns != varesp] \n",
        "        Y = DADOS.loc [:, DADOS.columns == varesp]\n",
        "        warnings.filterwarnings(\"ignore\")\n",
        "        model = ExtraTreesClassifier()\n",
        "        model.fit(X,Y)\n",
        "        ind = X.shape[1]\n",
        "        variaveis = X.columns[0:ind]\n",
        "        importancia = pd.DataFrame(variaveis)\n",
        "        features = pd.DataFrame(model.feature_importances_)\n",
        "        importancia['Importancia']= features\n",
        "        importancia = importancia.rename(columns = {0:\"Variáveis\",\"Importancia\":\"Importancia\"})\n",
        "        return importancia.sort_values(['Importancia'], ascending=False)\n",
        "\n",
        "lista_vp = funcao_variaveis_importantes(df,varesp = 'target')\n",
        "X_filtrado = df[lista_vp[lista_vp.Importancia>0]['Variáveis'].values] #Importância maior que zero\n",
        "lista_vp_filtrada = X_filtrado.columns\n",
        "X_train, X_test,y_train, y_test= train_test_split(X_filtrado, df[target], test_size = 0.3)\n",
        "clf = lgb.LGBMClassifier()\n",
        "clf.fit(X_train, y_train)\n",
        "predicao = clf.predict(X_test)\n",
        "acuracia_total = accuracy_score(predicao, y_test)\n",
        "saida = time.perf_counter()\n",
        "tempo = saida - entrada \n",
        "'O algoritmo levou '+str(round(tempo,0))+' segundos para rodar e deixou '+str(len(lista_vp_filtrada))+' variáveis preditoras com uma acurácia de '+ str(acuracia_total)+'.'\n"
      ],
      "metadata": {
        "id": "VjC6r8uDQ77U",
        "colab": {
          "base_uri": "https://localhost:8080/",
          "height": 36
        },
        "outputId": "204044ec-6293-436b-c23e-87d9692b8007"
      },
      "execution_count": null,
      "outputs": [
        {
          "output_type": "execute_result",
          "data": {
            "text/plain": [
              "'O algoritmo levou 20.0 segundos para rodar e deixou 997 variáveis preditoras com uma acurácia de 0.732.'"
            ],
            "application/vnd.google.colaboratory.intrinsic+json": {
              "type": "string"
            }
          },
          "metadata": {},
          "execution_count": 15
        }
      ]
    },
    {
      "cell_type": "markdown",
      "source": [
        "##1.3 Criando os Grupos com base na similaridade de Correlação de Spearman"
      ],
      "metadata": {
        "id": "EzShff4L4JyM"
      }
    },
    {
      "cell_type": "code",
      "source": [
        "entrada = time.perf_counter()"
      ],
      "metadata": {
        "id": "t5Qeyay57KUI"
      },
      "execution_count": null,
      "outputs": []
    },
    {
      "cell_type": "code",
      "source": [
        "df_cor = df_cor.dropna()\n",
        "df_cor['fx']= pd.qcut(df_cor['Correlacoes_P'], q=3)\n",
        "\n",
        "lista_variaveis_fx = []\n",
        "for i in list((range(0,len(pd.unique(df_cor['fx']))))):\n",
        "  lista_variaveis_fx.append(df_cor[df_cor['fx']==pd.unique(df_cor['fx'])[i]].Variaveis)"
      ],
      "metadata": {
        "id": "G5urmM1ou2bf"
      },
      "execution_count": null,
      "outputs": []
    },
    {
      "cell_type": "code",
      "source": [
        "tamanho_dos_grupos=[]\n",
        "lista_de_grupos=[]\n",
        "lista_variaveis_fx[0]\n",
        "for i in list(range(0,len(lista_variaveis_fx))):\n",
        "  lista_de_grupos.append('Grupo '+str(i))\n",
        "  tamanho_dos_grupos.append(len(lista_variaveis_fx[i]))\n",
        "\n",
        "divisao_grupos = pd.DataFrame({'Grupos':lista_de_grupos,'Tamanho do Grupo':tamanho_dos_grupos})\n",
        "divisao_grupos\n"
      ],
      "metadata": {
        "id": "GTFcoM2t1p4T",
        "colab": {
          "base_uri": "https://localhost:8080/",
          "height": 143
        },
        "outputId": "f9c8a0b4-7580-402a-debd-d7d34bdcde55"
      },
      "execution_count": null,
      "outputs": [
        {
          "output_type": "execute_result",
          "data": {
            "text/plain": [
              "    Grupos  Tamanho do Grupo\n",
              "0  Grupo 0               547\n",
              "1  Grupo 1               292\n",
              "2  Grupo 2               157"
            ],
            "text/html": [
              "\n",
              "  <div id=\"df-51a108c9-5bcf-4b60-b68a-2a3448a9ab54\">\n",
              "    <div class=\"colab-df-container\">\n",
              "      <div>\n",
              "<style scoped>\n",
              "    .dataframe tbody tr th:only-of-type {\n",
              "        vertical-align: middle;\n",
              "    }\n",
              "\n",
              "    .dataframe tbody tr th {\n",
              "        vertical-align: top;\n",
              "    }\n",
              "\n",
              "    .dataframe thead th {\n",
              "        text-align: right;\n",
              "    }\n",
              "</style>\n",
              "<table border=\"1\" class=\"dataframe\">\n",
              "  <thead>\n",
              "    <tr style=\"text-align: right;\">\n",
              "      <th></th>\n",
              "      <th>Grupos</th>\n",
              "      <th>Tamanho do Grupo</th>\n",
              "    </tr>\n",
              "  </thead>\n",
              "  <tbody>\n",
              "    <tr>\n",
              "      <th>0</th>\n",
              "      <td>Grupo 0</td>\n",
              "      <td>547</td>\n",
              "    </tr>\n",
              "    <tr>\n",
              "      <th>1</th>\n",
              "      <td>Grupo 1</td>\n",
              "      <td>292</td>\n",
              "    </tr>\n",
              "    <tr>\n",
              "      <th>2</th>\n",
              "      <td>Grupo 2</td>\n",
              "      <td>157</td>\n",
              "    </tr>\n",
              "  </tbody>\n",
              "</table>\n",
              "</div>\n",
              "      <button class=\"colab-df-convert\" onclick=\"convertToInteractive('df-51a108c9-5bcf-4b60-b68a-2a3448a9ab54')\"\n",
              "              title=\"Convert this dataframe to an interactive table.\"\n",
              "              style=\"display:none;\">\n",
              "        \n",
              "  <svg xmlns=\"http://www.w3.org/2000/svg\" height=\"24px\"viewBox=\"0 0 24 24\"\n",
              "       width=\"24px\">\n",
              "    <path d=\"M0 0h24v24H0V0z\" fill=\"none\"/>\n",
              "    <path d=\"M18.56 5.44l.94 2.06.94-2.06 2.06-.94-2.06-.94-.94-2.06-.94 2.06-2.06.94zm-11 1L8.5 8.5l.94-2.06 2.06-.94-2.06-.94L8.5 2.5l-.94 2.06-2.06.94zm10 10l.94 2.06.94-2.06 2.06-.94-2.06-.94-.94-2.06-.94 2.06-2.06.94z\"/><path d=\"M17.41 7.96l-1.37-1.37c-.4-.4-.92-.59-1.43-.59-.52 0-1.04.2-1.43.59L10.3 9.45l-7.72 7.72c-.78.78-.78 2.05 0 2.83L4 21.41c.39.39.9.59 1.41.59.51 0 1.02-.2 1.41-.59l7.78-7.78 2.81-2.81c.8-.78.8-2.07 0-2.86zM5.41 20L4 18.59l7.72-7.72 1.47 1.35L5.41 20z\"/>\n",
              "  </svg>\n",
              "      </button>\n",
              "      \n",
              "  <style>\n",
              "    .colab-df-container {\n",
              "      display:flex;\n",
              "      flex-wrap:wrap;\n",
              "      gap: 12px;\n",
              "    }\n",
              "\n",
              "    .colab-df-convert {\n",
              "      background-color: #E8F0FE;\n",
              "      border: none;\n",
              "      border-radius: 50%;\n",
              "      cursor: pointer;\n",
              "      display: none;\n",
              "      fill: #1967D2;\n",
              "      height: 32px;\n",
              "      padding: 0 0 0 0;\n",
              "      width: 32px;\n",
              "    }\n",
              "\n",
              "    .colab-df-convert:hover {\n",
              "      background-color: #E2EBFA;\n",
              "      box-shadow: 0px 1px 2px rgba(60, 64, 67, 0.3), 0px 1px 3px 1px rgba(60, 64, 67, 0.15);\n",
              "      fill: #174EA6;\n",
              "    }\n",
              "\n",
              "    [theme=dark] .colab-df-convert {\n",
              "      background-color: #3B4455;\n",
              "      fill: #D2E3FC;\n",
              "    }\n",
              "\n",
              "    [theme=dark] .colab-df-convert:hover {\n",
              "      background-color: #434B5C;\n",
              "      box-shadow: 0px 1px 3px 1px rgba(0, 0, 0, 0.15);\n",
              "      filter: drop-shadow(0px 1px 2px rgba(0, 0, 0, 0.3));\n",
              "      fill: #FFFFFF;\n",
              "    }\n",
              "  </style>\n",
              "\n",
              "      <script>\n",
              "        const buttonEl =\n",
              "          document.querySelector('#df-51a108c9-5bcf-4b60-b68a-2a3448a9ab54 button.colab-df-convert');\n",
              "        buttonEl.style.display =\n",
              "          google.colab.kernel.accessAllowed ? 'block' : 'none';\n",
              "\n",
              "        async function convertToInteractive(key) {\n",
              "          const element = document.querySelector('#df-51a108c9-5bcf-4b60-b68a-2a3448a9ab54');\n",
              "          const dataTable =\n",
              "            await google.colab.kernel.invokeFunction('convertToInteractive',\n",
              "                                                     [key], {});\n",
              "          if (!dataTable) return;\n",
              "\n",
              "          const docLinkHtml = 'Like what you see? Visit the ' +\n",
              "            '<a target=\"_blank\" href=https://colab.research.google.com/notebooks/data_table.ipynb>data table notebook</a>'\n",
              "            + ' to learn more about interactive tables.';\n",
              "          element.innerHTML = '';\n",
              "          dataTable['output_type'] = 'display_data';\n",
              "          await google.colab.output.renderOutput(dataTable, element);\n",
              "          const docLink = document.createElement('div');\n",
              "          docLink.innerHTML = docLinkHtml;\n",
              "          element.appendChild(docLink);\n",
              "        }\n",
              "      </script>\n",
              "    </div>\n",
              "  </div>\n",
              "  "
            ]
          },
          "metadata": {},
          "execution_count": 26
        }
      ]
    },
    {
      "cell_type": "markdown",
      "source": [
        "###1.3.1 Quantidade de Variáveis Preditoras Selecionadas:"
      ],
      "metadata": {
        "id": "u2JYFruRBgLg"
      }
    },
    {
      "cell_type": "code",
      "source": [
        "divisao_grupos['Tamanho do Grupo'].sum()"
      ],
      "metadata": {
        "id": "RkqJHF6W_D4y",
        "colab": {
          "base_uri": "https://localhost:8080/"
        },
        "outputId": "8a26a1a4-b13d-41b4-8818-5649b1329a19"
      },
      "execution_count": null,
      "outputs": [
        {
          "output_type": "execute_result",
          "data": {
            "text/plain": [
              "996"
            ]
          },
          "metadata": {},
          "execution_count": 27
        }
      ]
    },
    {
      "cell_type": "markdown",
      "source": [
        "#2 - Estimando a Acurária de Cada Grupo"
      ],
      "metadata": {
        "id": "Y1cJX1EA4aNI"
      }
    },
    {
      "cell_type": "markdown",
      "source": [
        "---------------------------------------------------------------------------------------------------------------"
      ],
      "metadata": {
        "id": "zR8dwjfzsm90"
      }
    },
    {
      "cell_type": "code",
      "source": [
        "y = df['target']\n",
        "X_vetor = []\n",
        "X_vetor_train = []\n",
        "X_vetor_test = []\n",
        "y_vetor_train = []\n",
        "y_vetor_test = []\n",
        "for i in list(range(0,len(lista_variaveis_fx))):\n",
        "  X_vetor.append('X_'+str(i+1))\n",
        "  X_vetor_train.append('X_train_'+str(i+1))\n",
        "  X_vetor_test.append('X_test_'+str(i+1))\n",
        "  y_vetor_train.append('y_train_'+str(i+1))\n",
        "  y_vetor_test.append('y_test_'+str(i+1))\n",
        "\n",
        "for i in list(range(0,len(lista_variaveis_fx))):\n",
        "  X_vetor[i] = df[lista_variaveis_fx[i]]\n",
        "  X_vetor_train[i], X_vetor_test[i],y_vetor_train[i], y_vetor_test[i]= train_test_split(X_vetor[i], y, test_size = 0.3)\n"
      ],
      "metadata": {
        "id": "kAHQyp5i5IXX"
      },
      "execution_count": null,
      "outputs": []
    },
    {
      "cell_type": "code",
      "source": [
        "acuracia =[]\n",
        "for i in list(range(0,len(lista_variaveis_fx))):\n",
        "  clf = lgb.LGBMClassifier()\n",
        "  clf.fit(X_vetor_train[i], y_vetor_train[i])\n",
        "  pred = clf.predict(X_vetor_test[i])\n",
        "  acuracia.append(accuracy_score(pred, y_vetor_test[i]))\n",
        "divisao_grupos['Acuracia dos Grupos'] = acuracia\n",
        "divisao_grupos"
      ],
      "metadata": {
        "id": "f9kgeI-_B8hH",
        "colab": {
          "base_uri": "https://localhost:8080/",
          "height": 143
        },
        "outputId": "17dc0e25-7cff-4ba3-8df7-63f6f94f382d"
      },
      "execution_count": null,
      "outputs": [
        {
          "output_type": "execute_result",
          "data": {
            "text/plain": [
              "    Grupos  Tamanho do Grupo  Acuracia dos Grupos\n",
              "0  Grupo 0               547             0.747667\n",
              "1  Grupo 1               292             0.750333\n",
              "2  Grupo 2               157             0.748667"
            ],
            "text/html": [
              "\n",
              "  <div id=\"df-03c22bc7-f50c-43f9-9fd4-2245902ca0d4\">\n",
              "    <div class=\"colab-df-container\">\n",
              "      <div>\n",
              "<style scoped>\n",
              "    .dataframe tbody tr th:only-of-type {\n",
              "        vertical-align: middle;\n",
              "    }\n",
              "\n",
              "    .dataframe tbody tr th {\n",
              "        vertical-align: top;\n",
              "    }\n",
              "\n",
              "    .dataframe thead th {\n",
              "        text-align: right;\n",
              "    }\n",
              "</style>\n",
              "<table border=\"1\" class=\"dataframe\">\n",
              "  <thead>\n",
              "    <tr style=\"text-align: right;\">\n",
              "      <th></th>\n",
              "      <th>Grupos</th>\n",
              "      <th>Tamanho do Grupo</th>\n",
              "      <th>Acuracia dos Grupos</th>\n",
              "    </tr>\n",
              "  </thead>\n",
              "  <tbody>\n",
              "    <tr>\n",
              "      <th>0</th>\n",
              "      <td>Grupo 0</td>\n",
              "      <td>547</td>\n",
              "      <td>0.747667</td>\n",
              "    </tr>\n",
              "    <tr>\n",
              "      <th>1</th>\n",
              "      <td>Grupo 1</td>\n",
              "      <td>292</td>\n",
              "      <td>0.750333</td>\n",
              "    </tr>\n",
              "    <tr>\n",
              "      <th>2</th>\n",
              "      <td>Grupo 2</td>\n",
              "      <td>157</td>\n",
              "      <td>0.748667</td>\n",
              "    </tr>\n",
              "  </tbody>\n",
              "</table>\n",
              "</div>\n",
              "      <button class=\"colab-df-convert\" onclick=\"convertToInteractive('df-03c22bc7-f50c-43f9-9fd4-2245902ca0d4')\"\n",
              "              title=\"Convert this dataframe to an interactive table.\"\n",
              "              style=\"display:none;\">\n",
              "        \n",
              "  <svg xmlns=\"http://www.w3.org/2000/svg\" height=\"24px\"viewBox=\"0 0 24 24\"\n",
              "       width=\"24px\">\n",
              "    <path d=\"M0 0h24v24H0V0z\" fill=\"none\"/>\n",
              "    <path d=\"M18.56 5.44l.94 2.06.94-2.06 2.06-.94-2.06-.94-.94-2.06-.94 2.06-2.06.94zm-11 1L8.5 8.5l.94-2.06 2.06-.94-2.06-.94L8.5 2.5l-.94 2.06-2.06.94zm10 10l.94 2.06.94-2.06 2.06-.94-2.06-.94-.94-2.06-.94 2.06-2.06.94z\"/><path d=\"M17.41 7.96l-1.37-1.37c-.4-.4-.92-.59-1.43-.59-.52 0-1.04.2-1.43.59L10.3 9.45l-7.72 7.72c-.78.78-.78 2.05 0 2.83L4 21.41c.39.39.9.59 1.41.59.51 0 1.02-.2 1.41-.59l7.78-7.78 2.81-2.81c.8-.78.8-2.07 0-2.86zM5.41 20L4 18.59l7.72-7.72 1.47 1.35L5.41 20z\"/>\n",
              "  </svg>\n",
              "      </button>\n",
              "      \n",
              "  <style>\n",
              "    .colab-df-container {\n",
              "      display:flex;\n",
              "      flex-wrap:wrap;\n",
              "      gap: 12px;\n",
              "    }\n",
              "\n",
              "    .colab-df-convert {\n",
              "      background-color: #E8F0FE;\n",
              "      border: none;\n",
              "      border-radius: 50%;\n",
              "      cursor: pointer;\n",
              "      display: none;\n",
              "      fill: #1967D2;\n",
              "      height: 32px;\n",
              "      padding: 0 0 0 0;\n",
              "      width: 32px;\n",
              "    }\n",
              "\n",
              "    .colab-df-convert:hover {\n",
              "      background-color: #E2EBFA;\n",
              "      box-shadow: 0px 1px 2px rgba(60, 64, 67, 0.3), 0px 1px 3px 1px rgba(60, 64, 67, 0.15);\n",
              "      fill: #174EA6;\n",
              "    }\n",
              "\n",
              "    [theme=dark] .colab-df-convert {\n",
              "      background-color: #3B4455;\n",
              "      fill: #D2E3FC;\n",
              "    }\n",
              "\n",
              "    [theme=dark] .colab-df-convert:hover {\n",
              "      background-color: #434B5C;\n",
              "      box-shadow: 0px 1px 3px 1px rgba(0, 0, 0, 0.15);\n",
              "      filter: drop-shadow(0px 1px 2px rgba(0, 0, 0, 0.3));\n",
              "      fill: #FFFFFF;\n",
              "    }\n",
              "  </style>\n",
              "\n",
              "      <script>\n",
              "        const buttonEl =\n",
              "          document.querySelector('#df-03c22bc7-f50c-43f9-9fd4-2245902ca0d4 button.colab-df-convert');\n",
              "        buttonEl.style.display =\n",
              "          google.colab.kernel.accessAllowed ? 'block' : 'none';\n",
              "\n",
              "        async function convertToInteractive(key) {\n",
              "          const element = document.querySelector('#df-03c22bc7-f50c-43f9-9fd4-2245902ca0d4');\n",
              "          const dataTable =\n",
              "            await google.colab.kernel.invokeFunction('convertToInteractive',\n",
              "                                                     [key], {});\n",
              "          if (!dataTable) return;\n",
              "\n",
              "          const docLinkHtml = 'Like what you see? Visit the ' +\n",
              "            '<a target=\"_blank\" href=https://colab.research.google.com/notebooks/data_table.ipynb>data table notebook</a>'\n",
              "            + ' to learn more about interactive tables.';\n",
              "          element.innerHTML = '';\n",
              "          dataTable['output_type'] = 'display_data';\n",
              "          await google.colab.output.renderOutput(dataTable, element);\n",
              "          const docLink = document.createElement('div');\n",
              "          docLink.innerHTML = docLinkHtml;\n",
              "          element.appendChild(docLink);\n",
              "        }\n",
              "      </script>\n",
              "    </div>\n",
              "  </div>\n",
              "  "
            ]
          },
          "metadata": {},
          "execution_count": 29
        }
      ]
    },
    {
      "cell_type": "markdown",
      "source": [
        "----------------------------------------------------------------------------------------------------------------------------------------------------------------"
      ],
      "metadata": {
        "id": "TnNv6bdAwTXk"
      }
    },
    {
      "cell_type": "markdown",
      "source": [
        "#3 - Calculando os retornos e riscos"
      ],
      "metadata": {
        "id": "T_4Hh-QlExeT"
      }
    },
    {
      "cell_type": "code",
      "source": [
        "retorno_grupo = []\n",
        "for i in list(range(0,len(X_vetor))):\n",
        "  df_x = X_vetor[0]\n",
        "  df_x['safra']=df['safra']\n",
        "  df_x['target']=df['target']\n",
        "  clf = lgb.LGBMClassifier()\n",
        "  retorno_safra = []\n",
        "  id_safra = []\n",
        "  for ANO in pd.unique(df_x['safra']):\n",
        "    df_xx = df_x[df_x.safra==ANO]\n",
        "    x_filtrado = df_xx.drop(['safra','target'], axis = 1)\n",
        "    y_filtrado = df_xx.target\n",
        "    x_filtrado_train, x_filtrado_test, y_filtrado_train, y_filtrado_test= train_test_split(x_filtrado, y_filtrado, test_size = 0.3)\n",
        "    clf.fit(x_filtrado_train, y_filtrado_train)\n",
        "    pred_filtrado =clf.predict(x_filtrado_test)\n",
        "    retorno_safra.append(accuracy_score(pred_filtrado, y_filtrado_test))\n",
        "    id_safra.append(ANO)\n",
        "  df_retornos = pd.DataFrame({'Retorno Grupo '+str(i): retorno_safra, 'Safra': id_safra})\n",
        "  retorno_grupo.append(df_retornos)\n",
        "df_retornos = reduce(lambda  left,right: pd.merge(left,right,on=['Safra'],how='outer'), retorno_grupo)"
      ],
      "metadata": {
        "id": "5yvYoCkQV-4F"
      },
      "execution_count": null,
      "outputs": []
    },
    {
      "cell_type": "code",
      "source": [
        "first_column = df_retornos.pop('Safra')\n",
        "df_retornos.insert(0, 'Safra', first_column)\n",
        "df_retornos"
      ],
      "metadata": {
        "id": "khuiN8DJUSHs",
        "colab": {
          "base_uri": "https://localhost:8080/",
          "height": 833
        },
        "outputId": "3c1f3ad2-aade-4541-a317-452a51b45e20"
      },
      "execution_count": null,
      "outputs": [
        {
          "output_type": "execute_result",
          "data": {
            "text/plain": [
              "    Safra  Retorno Grupo 0  Retorno Grupo 1  Retorno Grupo 2\n",
              "0       0         0.658333         0.675000         0.675000\n",
              "1       1         0.733333         0.716667         0.766667\n",
              "2       2         0.733333         0.716667         0.666667\n",
              "3       3         0.866667         0.750000         0.783333\n",
              "4       4         0.683333         0.658333         0.708333\n",
              "5       5         0.700000         0.691667         0.683333\n",
              "6       6         0.775000         0.700000         0.700000\n",
              "7       7         0.758333         0.741667         0.658333\n",
              "8       8         0.733333         0.733333         0.766667\n",
              "9       9         0.725000         0.725000         0.758333\n",
              "10     10         0.741667         0.725000         0.758333\n",
              "11     11         0.658333         0.625000         0.650000\n",
              "12     12         0.808333         0.808333         0.791667\n",
              "13     13         0.683333         0.750000         0.700000\n",
              "14     14         0.783333         0.808333         0.783333\n",
              "15     15         0.716667         0.683333         0.691667\n",
              "16     16         0.758333         0.750000         0.741667\n",
              "17     17         0.716667         0.758333         0.700000\n",
              "18     18         0.708333         0.708333         0.766667\n",
              "19     19         0.708333         0.758333         0.800000\n",
              "20     20         0.750000         0.733333         0.741667\n",
              "21     21         0.783333         0.733333         0.683333\n",
              "22     22         0.783333         0.741667         0.716667\n",
              "23     23         0.716667         0.691667         0.691667\n",
              "24     24         0.725000         0.716667         0.700000"
            ],
            "text/html": [
              "\n",
              "  <div id=\"df-6f6ffc50-6e49-48ac-a0a9-87f350bb7b88\">\n",
              "    <div class=\"colab-df-container\">\n",
              "      <div>\n",
              "<style scoped>\n",
              "    .dataframe tbody tr th:only-of-type {\n",
              "        vertical-align: middle;\n",
              "    }\n",
              "\n",
              "    .dataframe tbody tr th {\n",
              "        vertical-align: top;\n",
              "    }\n",
              "\n",
              "    .dataframe thead th {\n",
              "        text-align: right;\n",
              "    }\n",
              "</style>\n",
              "<table border=\"1\" class=\"dataframe\">\n",
              "  <thead>\n",
              "    <tr style=\"text-align: right;\">\n",
              "      <th></th>\n",
              "      <th>Safra</th>\n",
              "      <th>Retorno Grupo 0</th>\n",
              "      <th>Retorno Grupo 1</th>\n",
              "      <th>Retorno Grupo 2</th>\n",
              "    </tr>\n",
              "  </thead>\n",
              "  <tbody>\n",
              "    <tr>\n",
              "      <th>0</th>\n",
              "      <td>0</td>\n",
              "      <td>0.658333</td>\n",
              "      <td>0.675000</td>\n",
              "      <td>0.675000</td>\n",
              "    </tr>\n",
              "    <tr>\n",
              "      <th>1</th>\n",
              "      <td>1</td>\n",
              "      <td>0.733333</td>\n",
              "      <td>0.716667</td>\n",
              "      <td>0.766667</td>\n",
              "    </tr>\n",
              "    <tr>\n",
              "      <th>2</th>\n",
              "      <td>2</td>\n",
              "      <td>0.733333</td>\n",
              "      <td>0.716667</td>\n",
              "      <td>0.666667</td>\n",
              "    </tr>\n",
              "    <tr>\n",
              "      <th>3</th>\n",
              "      <td>3</td>\n",
              "      <td>0.866667</td>\n",
              "      <td>0.750000</td>\n",
              "      <td>0.783333</td>\n",
              "    </tr>\n",
              "    <tr>\n",
              "      <th>4</th>\n",
              "      <td>4</td>\n",
              "      <td>0.683333</td>\n",
              "      <td>0.658333</td>\n",
              "      <td>0.708333</td>\n",
              "    </tr>\n",
              "    <tr>\n",
              "      <th>5</th>\n",
              "      <td>5</td>\n",
              "      <td>0.700000</td>\n",
              "      <td>0.691667</td>\n",
              "      <td>0.683333</td>\n",
              "    </tr>\n",
              "    <tr>\n",
              "      <th>6</th>\n",
              "      <td>6</td>\n",
              "      <td>0.775000</td>\n",
              "      <td>0.700000</td>\n",
              "      <td>0.700000</td>\n",
              "    </tr>\n",
              "    <tr>\n",
              "      <th>7</th>\n",
              "      <td>7</td>\n",
              "      <td>0.758333</td>\n",
              "      <td>0.741667</td>\n",
              "      <td>0.658333</td>\n",
              "    </tr>\n",
              "    <tr>\n",
              "      <th>8</th>\n",
              "      <td>8</td>\n",
              "      <td>0.733333</td>\n",
              "      <td>0.733333</td>\n",
              "      <td>0.766667</td>\n",
              "    </tr>\n",
              "    <tr>\n",
              "      <th>9</th>\n",
              "      <td>9</td>\n",
              "      <td>0.725000</td>\n",
              "      <td>0.725000</td>\n",
              "      <td>0.758333</td>\n",
              "    </tr>\n",
              "    <tr>\n",
              "      <th>10</th>\n",
              "      <td>10</td>\n",
              "      <td>0.741667</td>\n",
              "      <td>0.725000</td>\n",
              "      <td>0.758333</td>\n",
              "    </tr>\n",
              "    <tr>\n",
              "      <th>11</th>\n",
              "      <td>11</td>\n",
              "      <td>0.658333</td>\n",
              "      <td>0.625000</td>\n",
              "      <td>0.650000</td>\n",
              "    </tr>\n",
              "    <tr>\n",
              "      <th>12</th>\n",
              "      <td>12</td>\n",
              "      <td>0.808333</td>\n",
              "      <td>0.808333</td>\n",
              "      <td>0.791667</td>\n",
              "    </tr>\n",
              "    <tr>\n",
              "      <th>13</th>\n",
              "      <td>13</td>\n",
              "      <td>0.683333</td>\n",
              "      <td>0.750000</td>\n",
              "      <td>0.700000</td>\n",
              "    </tr>\n",
              "    <tr>\n",
              "      <th>14</th>\n",
              "      <td>14</td>\n",
              "      <td>0.783333</td>\n",
              "      <td>0.808333</td>\n",
              "      <td>0.783333</td>\n",
              "    </tr>\n",
              "    <tr>\n",
              "      <th>15</th>\n",
              "      <td>15</td>\n",
              "      <td>0.716667</td>\n",
              "      <td>0.683333</td>\n",
              "      <td>0.691667</td>\n",
              "    </tr>\n",
              "    <tr>\n",
              "      <th>16</th>\n",
              "      <td>16</td>\n",
              "      <td>0.758333</td>\n",
              "      <td>0.750000</td>\n",
              "      <td>0.741667</td>\n",
              "    </tr>\n",
              "    <tr>\n",
              "      <th>17</th>\n",
              "      <td>17</td>\n",
              "      <td>0.716667</td>\n",
              "      <td>0.758333</td>\n",
              "      <td>0.700000</td>\n",
              "    </tr>\n",
              "    <tr>\n",
              "      <th>18</th>\n",
              "      <td>18</td>\n",
              "      <td>0.708333</td>\n",
              "      <td>0.708333</td>\n",
              "      <td>0.766667</td>\n",
              "    </tr>\n",
              "    <tr>\n",
              "      <th>19</th>\n",
              "      <td>19</td>\n",
              "      <td>0.708333</td>\n",
              "      <td>0.758333</td>\n",
              "      <td>0.800000</td>\n",
              "    </tr>\n",
              "    <tr>\n",
              "      <th>20</th>\n",
              "      <td>20</td>\n",
              "      <td>0.750000</td>\n",
              "      <td>0.733333</td>\n",
              "      <td>0.741667</td>\n",
              "    </tr>\n",
              "    <tr>\n",
              "      <th>21</th>\n",
              "      <td>21</td>\n",
              "      <td>0.783333</td>\n",
              "      <td>0.733333</td>\n",
              "      <td>0.683333</td>\n",
              "    </tr>\n",
              "    <tr>\n",
              "      <th>22</th>\n",
              "      <td>22</td>\n",
              "      <td>0.783333</td>\n",
              "      <td>0.741667</td>\n",
              "      <td>0.716667</td>\n",
              "    </tr>\n",
              "    <tr>\n",
              "      <th>23</th>\n",
              "      <td>23</td>\n",
              "      <td>0.716667</td>\n",
              "      <td>0.691667</td>\n",
              "      <td>0.691667</td>\n",
              "    </tr>\n",
              "    <tr>\n",
              "      <th>24</th>\n",
              "      <td>24</td>\n",
              "      <td>0.725000</td>\n",
              "      <td>0.716667</td>\n",
              "      <td>0.700000</td>\n",
              "    </tr>\n",
              "  </tbody>\n",
              "</table>\n",
              "</div>\n",
              "      <button class=\"colab-df-convert\" onclick=\"convertToInteractive('df-6f6ffc50-6e49-48ac-a0a9-87f350bb7b88')\"\n",
              "              title=\"Convert this dataframe to an interactive table.\"\n",
              "              style=\"display:none;\">\n",
              "        \n",
              "  <svg xmlns=\"http://www.w3.org/2000/svg\" height=\"24px\"viewBox=\"0 0 24 24\"\n",
              "       width=\"24px\">\n",
              "    <path d=\"M0 0h24v24H0V0z\" fill=\"none\"/>\n",
              "    <path d=\"M18.56 5.44l.94 2.06.94-2.06 2.06-.94-2.06-.94-.94-2.06-.94 2.06-2.06.94zm-11 1L8.5 8.5l.94-2.06 2.06-.94-2.06-.94L8.5 2.5l-.94 2.06-2.06.94zm10 10l.94 2.06.94-2.06 2.06-.94-2.06-.94-.94-2.06-.94 2.06-2.06.94z\"/><path d=\"M17.41 7.96l-1.37-1.37c-.4-.4-.92-.59-1.43-.59-.52 0-1.04.2-1.43.59L10.3 9.45l-7.72 7.72c-.78.78-.78 2.05 0 2.83L4 21.41c.39.39.9.59 1.41.59.51 0 1.02-.2 1.41-.59l7.78-7.78 2.81-2.81c.8-.78.8-2.07 0-2.86zM5.41 20L4 18.59l7.72-7.72 1.47 1.35L5.41 20z\"/>\n",
              "  </svg>\n",
              "      </button>\n",
              "      \n",
              "  <style>\n",
              "    .colab-df-container {\n",
              "      display:flex;\n",
              "      flex-wrap:wrap;\n",
              "      gap: 12px;\n",
              "    }\n",
              "\n",
              "    .colab-df-convert {\n",
              "      background-color: #E8F0FE;\n",
              "      border: none;\n",
              "      border-radius: 50%;\n",
              "      cursor: pointer;\n",
              "      display: none;\n",
              "      fill: #1967D2;\n",
              "      height: 32px;\n",
              "      padding: 0 0 0 0;\n",
              "      width: 32px;\n",
              "    }\n",
              "\n",
              "    .colab-df-convert:hover {\n",
              "      background-color: #E2EBFA;\n",
              "      box-shadow: 0px 1px 2px rgba(60, 64, 67, 0.3), 0px 1px 3px 1px rgba(60, 64, 67, 0.15);\n",
              "      fill: #174EA6;\n",
              "    }\n",
              "\n",
              "    [theme=dark] .colab-df-convert {\n",
              "      background-color: #3B4455;\n",
              "      fill: #D2E3FC;\n",
              "    }\n",
              "\n",
              "    [theme=dark] .colab-df-convert:hover {\n",
              "      background-color: #434B5C;\n",
              "      box-shadow: 0px 1px 3px 1px rgba(0, 0, 0, 0.15);\n",
              "      filter: drop-shadow(0px 1px 2px rgba(0, 0, 0, 0.3));\n",
              "      fill: #FFFFFF;\n",
              "    }\n",
              "  </style>\n",
              "\n",
              "      <script>\n",
              "        const buttonEl =\n",
              "          document.querySelector('#df-6f6ffc50-6e49-48ac-a0a9-87f350bb7b88 button.colab-df-convert');\n",
              "        buttonEl.style.display =\n",
              "          google.colab.kernel.accessAllowed ? 'block' : 'none';\n",
              "\n",
              "        async function convertToInteractive(key) {\n",
              "          const element = document.querySelector('#df-6f6ffc50-6e49-48ac-a0a9-87f350bb7b88');\n",
              "          const dataTable =\n",
              "            await google.colab.kernel.invokeFunction('convertToInteractive',\n",
              "                                                     [key], {});\n",
              "          if (!dataTable) return;\n",
              "\n",
              "          const docLinkHtml = 'Like what you see? Visit the ' +\n",
              "            '<a target=\"_blank\" href=https://colab.research.google.com/notebooks/data_table.ipynb>data table notebook</a>'\n",
              "            + ' to learn more about interactive tables.';\n",
              "          element.innerHTML = '';\n",
              "          dataTable['output_type'] = 'display_data';\n",
              "          await google.colab.output.renderOutput(dataTable, element);\n",
              "          const docLink = document.createElement('div');\n",
              "          docLink.innerHTML = docLinkHtml;\n",
              "          element.appendChild(docLink);\n",
              "        }\n",
              "      </script>\n",
              "    </div>\n",
              "  </div>\n",
              "  "
            ]
          },
          "metadata": {},
          "execution_count": 31
        }
      ]
    },
    {
      "cell_type": "markdown",
      "source": [
        "________________________________________________________________________________________________________________________________________________________________"
      ],
      "metadata": {
        "id": "CuCEgGerfXTr"
      }
    },
    {
      "cell_type": "code",
      "source": [
        "#Cálculo do retorno do portifolio\n",
        "def get_portfolio_returns(returns, weights):\n",
        "    return np.dot(returns.mean(), weights)\n",
        "#Cálculo do risco do portifólio, considerando o desvio padrão\n",
        "def get_portfolio_risk(returns, weights):\n",
        "    covariances = returns.cov()\n",
        "    var_risk = np.matmul(np.matmul((weights), covariances.values), weights)\n",
        "    std_risk = np.sqrt(var_risk)\n",
        "    return std_risk\n",
        "def mount_portfolio(x , args):\n",
        "    return get_portfolio_risk(args, x)\n",
        "def compute_frontier(returns_range, returns_df):\n",
        "    optimal_portfolios = []\n",
        "    #restrição para que a soma dos pesos não ultrapasse o valor 1\n",
        "    eq_constraint_proportions = {'type': 'eq', 'fun': lambda x: sum(x) - 1}\n",
        "    #definição dos limites inferior e superior dos pesos em 0 e 1, respectivamente\n",
        "    bounds = Bounds(ub=[1,1,1,1], lb=[0,0,0,0])\n",
        " \n",
        " \n",
        "    #ponto de paprtida para o algoritmo de otimização, foram utilizados pesos igualmente distribuídos\n",
        "    initial_guess = np.ones(len(returns_df.columns))*1/len(returns_df.columns)\n",
        "    for value in returns_range:\n",
        "        #restrição para garantir que o valor de retorno desejado será mantido\n",
        "        eq_constraint_return = {'type':'eq', 'fun': lambda x : get_portfolio_returns(returns_df, x) - value}\n",
        " \n",
        "        optimal_weights = minimize(mount_portfolio, x0 = initial_guess, method = 'SLSQP', \n",
        "                constraints = [eq_constraint_proportions, eq_constraint_return],\n",
        "                bounds=bounds,  options={'ftol':1e-9, 'disp':False},\n",
        "                args = (returns_df,))\n",
        "        optimal_portfolios.append(optimal_weights)\n",
        "    \n",
        "    return optimal_portfolios\n"
      ],
      "metadata": {
        "id": "UX7evvLff0A2"
      },
      "execution_count": null,
      "outputs": []
    },
    {
      "cell_type": "code",
      "source": [
        "#Definição dos patamares de retorno máximo e mínimo\n",
        "real_returns = df_retornos.drop(['Safra'],axis=1)\n",
        "min_return = real_returns.mean().min()\n",
        "max_return = real_returns.mean().max()\n",
        "def generate_random_portfolios(num_samples, returns): \n",
        "    returns_from_random_weights = []\n",
        "    risks_from_random_weights = []\n",
        "    weights = []\n",
        "    for i in range(0, num_samples):\n",
        "        random_weights = np.random.rand(len(returns.columns))\n",
        "        random_weights = random_weights/np.sum(random_weights)\n",
        "        weights.append(random_weights)\n",
        " \n",
        "        random_return = get_portfolio_returns(returns, random_weights)\n",
        "        random_risk = get_portfolio_risk(returns, random_weights)\n",
        " \n",
        "        returns_from_random_weights.append(random_return)\n",
        "        risks_from_random_weights.append(random_risk)\n",
        "    return [risks_from_random_weights, returns_from_random_weights, weights]"
      ],
      "metadata": {
        "id": "YMn2P9wAggbQ"
      },
      "execution_count": null,
      "outputs": []
    },
    {
      "cell_type": "code",
      "source": [
        "random_ports = generate_random_portfolios(10000, real_returns)\n",
        "plt.scatter(random_ports[0], random_ports[1])\n",
        "plt.ylabel('Retorno')\n",
        "plt.xlabel('Risco')"
      ],
      "metadata": {
        "id": "U9xiMGC6g3gY",
        "colab": {
          "base_uri": "https://localhost:8080/",
          "height": 296
        },
        "outputId": "6b4821b9-3bc1-4d51-fdf0-058d51a011f1"
      },
      "execution_count": null,
      "outputs": [
        {
          "output_type": "execute_result",
          "data": {
            "text/plain": [
              "Text(0.5, 0, 'Risco')"
            ]
          },
          "metadata": {},
          "execution_count": 34
        },
        {
          "output_type": "display_data",
          "data": {
            "text/plain": [
              "<Figure size 432x288 with 1 Axes>"
            ],
            "image/png": "[encoded data removed]"
          },
          "metadata": {
            "needs_background": "light"
          }
        }
      ]
    },
    {
      "cell_type": "code",
      "source": [
        "fronteira_eficiente = pd.DataFrame({'Risco':random_ports[0],'Retorno':random_ports[1], 'Pesos':random_ports[2]})\n",
        "fronteira_eficiente['Pesos'] = fronteira_eficiente.Pesos.apply(lambda x: np.round(x, 2))"
      ],
      "metadata": {
        "id": "4IMN26dC5O7P"
      },
      "execution_count": null,
      "outputs": []
    },
    {
      "cell_type": "code",
      "source": [
        "alocacao_otima = fronteira_eficiente[fronteira_eficiente.Risco ==fronteira_eficiente.Risco.min()]\n",
        "alocacao_otima[['Risco','Retorno']]"
      ],
      "metadata": {
        "id": "p8SsxZO9f8af",
        "colab": {
          "base_uri": "https://localhost:8080/",
          "height": 81
        },
        "outputId": "404ee97a-39ef-4d71-e3c1-d64c2b32bf98"
      },
      "execution_count": null,
      "outputs": [
        {
          "output_type": "execute_result",
          "data": {
            "text/plain": [
              "         Risco   Retorno\n",
              "9547  0.037421  0.726895"
            ],
            "text/html": [
              "\n",
              "  <div id=\"df-207d1541-69e5-4422-89f4-a9a3fece7a44\">\n",
              "    <div class=\"colab-df-container\">\n",
              "      <div>\n",
              "<style scoped>\n",
              "    .dataframe tbody tr th:only-of-type {\n",
              "        vertical-align: middle;\n",
              "    }\n",
              "\n",
              "    .dataframe tbody tr th {\n",
              "        vertical-align: top;\n",
              "    }\n",
              "\n",
              "    .dataframe thead th {\n",
              "        text-align: right;\n",
              "    }\n",
              "</style>\n",
              "<table border=\"1\" class=\"dataframe\">\n",
              "  <thead>\n",
              "    <tr style=\"text-align: right;\">\n",
              "      <th></th>\n",
              "      <th>Risco</th>\n",
              "      <th>Retorno</th>\n",
              "    </tr>\n",
              "  </thead>\n",
              "  <tbody>\n",
              "    <tr>\n",
              "      <th>9547</th>\n",
              "      <td>0.037421</td>\n",
              "      <td>0.726895</td>\n",
              "    </tr>\n",
              "  </tbody>\n",
              "</table>\n",
              "</div>\n",
              "      <button class=\"colab-df-convert\" onclick=\"convertToInteractive('df-207d1541-69e5-4422-89f4-a9a3fece7a44')\"\n",
              "              title=\"Convert this dataframe to an interactive table.\"\n",
              "              style=\"display:none;\">\n",
              "        \n",
              "  <svg xmlns=\"http://www.w3.org/2000/svg\" height=\"24px\"viewBox=\"0 0 24 24\"\n",
              "       width=\"24px\">\n",
              "    <path d=\"M0 0h24v24H0V0z\" fill=\"none\"/>\n",
              "    <path d=\"M18.56 5.44l.94 2.06.94-2.06 2.06-.94-2.06-.94-.94-2.06-.94 2.06-2.06.94zm-11 1L8.5 8.5l.94-2.06 2.06-.94-2.06-.94L8.5 2.5l-.94 2.06-2.06.94zm10 10l.94 2.06.94-2.06 2.06-.94-2.06-.94-.94-2.06-.94 2.06-2.06.94z\"/><path d=\"M17.41 7.96l-1.37-1.37c-.4-.4-.92-.59-1.43-.59-.52 0-1.04.2-1.43.59L10.3 9.45l-7.72 7.72c-.78.78-.78 2.05 0 2.83L4 21.41c.39.39.9.59 1.41.59.51 0 1.02-.2 1.41-.59l7.78-7.78 2.81-2.81c.8-.78.8-2.07 0-2.86zM5.41 20L4 18.59l7.72-7.72 1.47 1.35L5.41 20z\"/>\n",
              "  </svg>\n",
              "      </button>\n",
              "      \n",
              "  <style>\n",
              "    .colab-df-container {\n",
              "      display:flex;\n",
              "      flex-wrap:wrap;\n",
              "      gap: 12px;\n",
              "    }\n",
              "\n",
              "    .colab-df-convert {\n",
              "      background-color: #E8F0FE;\n",
              "      border: none;\n",
              "      border-radius: 50%;\n",
              "      cursor: pointer;\n",
              "      display: none;\n",
              "      fill: #1967D2;\n",
              "      height: 32px;\n",
              "      padding: 0 0 0 0;\n",
              "      width: 32px;\n",
              "    }\n",
              "\n",
              "    .colab-df-convert:hover {\n",
              "      background-color: #E2EBFA;\n",
              "      box-shadow: 0px 1px 2px rgba(60, 64, 67, 0.3), 0px 1px 3px 1px rgba(60, 64, 67, 0.15);\n",
              "      fill: #174EA6;\n",
              "    }\n",
              "\n",
              "    [theme=dark] .colab-df-convert {\n",
              "      background-color: #3B4455;\n",
              "      fill: #D2E3FC;\n",
              "    }\n",
              "\n",
              "    [theme=dark] .colab-df-convert:hover {\n",
              "      background-color: #434B5C;\n",
              "      box-shadow: 0px 1px 3px 1px rgba(0, 0, 0, 0.15);\n",
              "      filter: drop-shadow(0px 1px 2px rgba(0, 0, 0, 0.3));\n",
              "      fill: #FFFFFF;\n",
              "    }\n",
              "  </style>\n",
              "\n",
              "      <script>\n",
              "        const buttonEl =\n",
              "          document.querySelector('#df-207d1541-69e5-4422-89f4-a9a3fece7a44 button.colab-df-convert');\n",
              "        buttonEl.style.display =\n",
              "          google.colab.kernel.accessAllowed ? 'block' : 'none';\n",
              "\n",
              "        async function convertToInteractive(key) {\n",
              "          const element = document.querySelector('#df-207d1541-69e5-4422-89f4-a9a3fece7a44');\n",
              "          const dataTable =\n",
              "            await google.colab.kernel.invokeFunction('convertToInteractive',\n",
              "                                                     [key], {});\n",
              "          if (!dataTable) return;\n",
              "\n",
              "          const docLinkHtml = 'Like what you see? Visit the ' +\n",
              "            '<a target=\"_blank\" href=https://colab.research.google.com/notebooks/data_table.ipynb>data table notebook</a>'\n",
              "            + ' to learn more about interactive tables.';\n",
              "          element.innerHTML = '';\n",
              "          dataTable['output_type'] = 'display_data';\n",
              "          await google.colab.output.renderOutput(dataTable, element);\n",
              "          const docLink = document.createElement('div');\n",
              "          docLink.innerHTML = docLinkHtml;\n",
              "          element.appendChild(docLink);\n",
              "        }\n",
              "      </script>\n",
              "    </div>\n",
              "  </div>\n",
              "  "
            ]
          },
          "metadata": {},
          "execution_count": 36
        }
      ]
    },
    {
      "cell_type": "code",
      "source": [
        "alocacao_otima.Pesos"
      ],
      "metadata": {
        "id": "4ECkue0qgJ4b",
        "colab": {
          "base_uri": "https://localhost:8080/"
        },
        "outputId": "ab41146e-b330-4acd-d669-59ba637a18fe"
      },
      "execution_count": null,
      "outputs": [
        {
          "output_type": "execute_result",
          "data": {
            "text/plain": [
              "9547    [0.25, 0.41, 0.33]\n",
              "Name: Pesos, dtype: object"
            ]
          },
          "metadata": {},
          "execution_count": 37
        }
      ]
    },
    {
      "cell_type": "markdown",
      "source": [
        "----------------------------------------------------------------------------------------------------------------------------------------------------------------"
      ],
      "metadata": {
        "id": "B2pwiMHPggUS"
      }
    },
    {
      "cell_type": "markdown",
      "source": [
        "# 4 - Verificar Performance da Fronteira Eficiente"
      ],
      "metadata": {
        "id": "8MVPY4G3iDW7"
      }
    },
    {
      "cell_type": "code",
      "source": [
        "divisao_grupos['Alocacao Otima'] = alocacao_otima.Pesos.values[0]\n",
        "divisao_grupos['Tamanho Final do Grupo'] = round((divisao_grupos['Tamanho do Grupo']*divisao_grupos['Alocacao Otima'])/divisao_grupos['Alocacao Otima'].sum(),0)\n",
        "divisao_grupos"
      ],
      "metadata": {
        "id": "4VfI-f-CiQOY",
        "colab": {
          "base_uri": "https://localhost:8080/",
          "height": 143
        },
        "outputId": "87e3ba24-393d-4466-b45a-cd389c741540"
      },
      "execution_count": null,
      "outputs": [
        {
          "output_type": "execute_result",
          "data": {
            "text/plain": [
              "    Grupos  Tamanho do Grupo  Acuracia dos Grupos  Alocacao Otima  \\\n",
              "0  Grupo 0               547             0.747667            0.25   \n",
              "1  Grupo 1               292             0.750333            0.41   \n",
              "2  Grupo 2               157             0.748667            0.33   \n",
              "\n",
              "   Tamanho Final do Grupo  \n",
              "0                   138.0  \n",
              "1                   121.0  \n",
              "2                    52.0  "
            ],
            "text/html": [
              "\n",
              "  <div id=\"df-e42b76d4-77b7-4d57-bee2-2378d31cd13b\">\n",
              "    <div class=\"colab-df-container\">\n",
              "      <div>\n",
              "<style scoped>\n",
              "    .dataframe tbody tr th:only-of-type {\n",
              "        vertical-align: middle;\n",
              "    }\n",
              "\n",
              "    .dataframe tbody tr th {\n",
              "        vertical-align: top;\n",
              "    }\n",
              "\n",
              "    .dataframe thead th {\n",
              "        text-align: right;\n",
              "    }\n",
              "</style>\n",
              "<table border=\"1\" class=\"dataframe\">\n",
              "  <thead>\n",
              "    <tr style=\"text-align: right;\">\n",
              "      <th></th>\n",
              "      <th>Grupos</th>\n",
              "      <th>Tamanho do Grupo</th>\n",
              "      <th>Acuracia dos Grupos</th>\n",
              "      <th>Alocacao Otima</th>\n",
              "      <th>Tamanho Final do Grupo</th>\n",
              "    </tr>\n",
              "  </thead>\n",
              "  <tbody>\n",
              "    <tr>\n",
              "      <th>0</th>\n",
              "      <td>Grupo 0</td>\n",
              "      <td>547</td>\n",
              "      <td>0.747667</td>\n",
              "      <td>0.25</td>\n",
              "      <td>138.0</td>\n",
              "    </tr>\n",
              "    <tr>\n",
              "      <th>1</th>\n",
              "      <td>Grupo 1</td>\n",
              "      <td>292</td>\n",
              "      <td>0.750333</td>\n",
              "      <td>0.41</td>\n",
              "      <td>121.0</td>\n",
              "    </tr>\n",
              "    <tr>\n",
              "      <th>2</th>\n",
              "      <td>Grupo 2</td>\n",
              "      <td>157</td>\n",
              "      <td>0.748667</td>\n",
              "      <td>0.33</td>\n",
              "      <td>52.0</td>\n",
              "    </tr>\n",
              "  </tbody>\n",
              "</table>\n",
              "</div>\n",
              "      <button class=\"colab-df-convert\" onclick=\"convertToInteractive('df-e42b76d4-77b7-4d57-bee2-2378d31cd13b')\"\n",
              "              title=\"Convert this dataframe to an interactive table.\"\n",
              "              style=\"display:none;\">\n",
              "        \n",
              "  <svg xmlns=\"http://www.w3.org/2000/svg\" height=\"24px\"viewBox=\"0 0 24 24\"\n",
              "       width=\"24px\">\n",
              "    <path d=\"M0 0h24v24H0V0z\" fill=\"none\"/>\n",
              "    <path d=\"M18.56 5.44l.94 2.06.94-2.06 2.06-.94-2.06-.94-.94-2.06-.94 2.06-2.06.94zm-11 1L8.5 8.5l.94-2.06 2.06-.94-2.06-.94L8.5 2.5l-.94 2.06-2.06.94zm10 10l.94 2.06.94-2.06 2.06-.94-2.06-.94-.94-2.06-.94 2.06-2.06.94z\"/><path d=\"M17.41 7.96l-1.37-1.37c-.4-.4-.92-.59-1.43-.59-.52 0-1.04.2-1.43.59L10.3 9.45l-7.72 7.72c-.78.78-.78 2.05 0 2.83L4 21.41c.39.39.9.59 1.41.59.51 0 1.02-.2 1.41-.59l7.78-7.78 2.81-2.81c.8-.78.8-2.07 0-2.86zM5.41 20L4 18.59l7.72-7.72 1.47 1.35L5.41 20z\"/>\n",
              "  </svg>\n",
              "      </button>\n",
              "      \n",
              "  <style>\n",
              "    .colab-df-container {\n",
              "      display:flex;\n",
              "      flex-wrap:wrap;\n",
              "      gap: 12px;\n",
              "    }\n",
              "\n",
              "    .colab-df-convert {\n",
              "      background-color: #E8F0FE;\n",
              "      border: none;\n",
              "      border-radius: 50%;\n",
              "      cursor: pointer;\n",
              "      display: none;\n",
              "      fill: #1967D2;\n",
              "      height: 32px;\n",
              "      padding: 0 0 0 0;\n",
              "      width: 32px;\n",
              "    }\n",
              "\n",
              "    .colab-df-convert:hover {\n",
              "      background-color: #E2EBFA;\n",
              "      box-shadow: 0px 1px 2px rgba(60, 64, 67, 0.3), 0px 1px 3px 1px rgba(60, 64, 67, 0.15);\n",
              "      fill: #174EA6;\n",
              "    }\n",
              "\n",
              "    [theme=dark] .colab-df-convert {\n",
              "      background-color: #3B4455;\n",
              "      fill: #D2E3FC;\n",
              "    }\n",
              "\n",
              "    [theme=dark] .colab-df-convert:hover {\n",
              "      background-color: #434B5C;\n",
              "      box-shadow: 0px 1px 3px 1px rgba(0, 0, 0, 0.15);\n",
              "      filter: drop-shadow(0px 1px 2px rgba(0, 0, 0, 0.3));\n",
              "      fill: #FFFFFF;\n",
              "    }\n",
              "  </style>\n",
              "\n",
              "      <script>\n",
              "        const buttonEl =\n",
              "          document.querySelector('#df-e42b76d4-77b7-4d57-bee2-2378d31cd13b button.colab-df-convert');\n",
              "        buttonEl.style.display =\n",
              "          google.colab.kernel.accessAllowed ? 'block' : 'none';\n",
              "\n",
              "        async function convertToInteractive(key) {\n",
              "          const element = document.querySelector('#df-e42b76d4-77b7-4d57-bee2-2378d31cd13b');\n",
              "          const dataTable =\n",
              "            await google.colab.kernel.invokeFunction('convertToInteractive',\n",
              "                                                     [key], {});\n",
              "          if (!dataTable) return;\n",
              "\n",
              "          const docLinkHtml = 'Like what you see? Visit the ' +\n",
              "            '<a target=\"_blank\" href=https://colab.research.google.com/notebooks/data_table.ipynb>data table notebook</a>'\n",
              "            + ' to learn more about interactive tables.';\n",
              "          element.innerHTML = '';\n",
              "          dataTable['output_type'] = 'display_data';\n",
              "          await google.colab.output.renderOutput(dataTable, element);\n",
              "          const docLink = document.createElement('div');\n",
              "          docLink.innerHTML = docLinkHtml;\n",
              "          element.appendChild(docLink);\n",
              "        }\n",
              "      </script>\n",
              "    </div>\n",
              "  </div>\n",
              "  "
            ]
          },
          "metadata": {},
          "execution_count": 38
        }
      ]
    },
    {
      "cell_type": "code",
      "source": [
        "print('Número final de váriaveis: ',divisao_grupos['Tamanho Final do Grupo'].sum()),\n",
        "print('Isso equivale à ',100*(round(1 -(divisao_grupos['Tamanho Final do Grupo'].sum()/divisao_grupos['Tamanho do Grupo'].sum()),2)),'% de redução no volume das variáveis inicias')"
      ],
      "metadata": {
        "id": "neyZvusltHxl",
        "colab": {
          "base_uri": "https://localhost:8080/"
        },
        "outputId": "12868ef8-29b9-49cd-e1f0-295e212c8f3b"
      },
      "execution_count": null,
      "outputs": [
        {
          "output_type": "stream",
          "name": "stdout",
          "text": [
            "Número final de váriaveis:  311.0\n",
            "Isso equivale à  69.0 % de redução no volume das variáveis inicias\n"
          ]
        }
      ]
    },
    {
      "cell_type": "code",
      "source": [
        "variaveis_filtradas = []\n",
        "for i in list(range(0,len(X_vetor))):\n",
        "  df_x = X_vetor[i]\n",
        "  df_x = df_x.drop(['safra','target'],axis=1,errors='ignore')\n",
        "  df_x = df_x.sample(n=int(divisao_grupos['Tamanho Final do Grupo'][i]),axis='columns')\n",
        "  #df_x = df_x.sample(n=math.ceil(divisao_grupos['Alocacao Otima'][i]*df_x.shape[1]),axis='columns')\n",
        "  variaveis_filtradas.extend(df_x.columns)\n",
        "\n",
        "\n"
      ],
      "metadata": {
        "id": "OImiyp2yk3St"
      },
      "execution_count": null,
      "outputs": []
    },
    {
      "cell_type": "code",
      "source": [
        "saida = time.perf_counter()\n",
        "tempo = saida - entrada \n",
        "'O Projeto levou '+str(round(tempo,0))+' segundos para rodar até essa fase.'"
      ],
      "metadata": {
        "id": "M8XLdgtz7RWI",
        "colab": {
          "base_uri": "https://localhost:8080/",
          "height": 36
        },
        "outputId": "b60d0402-fad3-4ce5-b334-a1e2cf39081f"
      },
      "execution_count": null,
      "outputs": [
        {
          "output_type": "execute_result",
          "data": {
            "text/plain": [
              "'O Projeto levou -93.0 segundos para rodar até essa fase.'"
            ],
            "application/vnd.google.colaboratory.intrinsic+json": {
              "type": "string"
            }
          },
          "metadata": {},
          "execution_count": 41
        }
      ]
    },
    {
      "cell_type": "code",
      "source": [
        "entrada = time.perf_counter()\n",
        "X_train_final, X_test_final,y_train_final, y_test_final= train_test_split(df[variaveis_filtradas], df[target], test_size = 0.3)\n",
        "clf = lgb.LGBMClassifier()\n",
        "clf.fit(X_train_final, y_train_final)\n",
        "predicao = clf.predict(X_test_final)\n",
        "acuracia_total = accuracy_score(predicao, y_test_final)\n",
        "saida = time.perf_counter()\n",
        "tempo = saida - entrada \n",
        "'A proposta levou '+str(round(tempo,0))+' segundos para rodar e deixou '+str(len(variaveis_filtradas))+' variáveis preditoras com uma acurácia de '+ str(round(acuracia_total,2))+'.'"
      ],
      "metadata": {
        "id": "Z27vJolnvKjI",
        "colab": {
          "base_uri": "https://localhost:8080/",
          "height": 36
        },
        "outputId": "764a93e7-bbd4-4fbc-cb21-5f87f764a2e0"
      },
      "execution_count": null,
      "outputs": [
        {
          "output_type": "execute_result",
          "data": {
            "text/plain": [
              "'A proposta levou 12.0 segundos para rodar e deixou 311 variáveis preditoras com uma acurácia de 0.7323333333333333.'"
            ],
            "application/vnd.google.colaboratory.intrinsic+json": {
              "type": "string"
            }
          },
          "metadata": {},
          "execution_count": 42
        }
      ]
    },
    {
      "cell_type": "code",
      "source": [],
      "metadata": {
        "id": "UHdHkKtDKYZX"
      },
      "execution_count": null,
      "outputs": []
    }
  ]
}
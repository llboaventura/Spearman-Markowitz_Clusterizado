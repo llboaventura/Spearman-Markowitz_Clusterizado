{
  "cells": [
    {
      "cell_type": "markdown",
      "source": [
        "# 0. Instalação de Bibliotecas"
      ],
      "metadata": {
        "id": "opFYVoBC3hz8"
      }
    },
    {
      "cell_type": "code",
      "execution_count": null,
      "metadata": {
        "id": "hnG_wdpFdjoz"
      },
      "outputs": [],
      "source": [
        "import pandas as pd\n",
        "import math\n",
        "from numpy.random import rand\n",
        "from numpy.random import seed\n",
        "from sklearn import preprocessing\n",
        "from sklearn.model_selection import train_test_split\n",
        "from scipy.stats import spearmanr\n",
        "import numpy as np\n",
        "import matplotlib.pyplot as plt\n",
        "from scipy import stats\n",
        "import re\n",
        "from functools import reduce\n",
        "from sklearn.ensemble import RandomForestClassifier\n",
        "from scipy.optimize import Bounds,  minimize\n",
        "from sklearn.metrics import mean_squared_error\n",
        "from sklearn.model_selection import train_test_split\n",
        "from sklearn.neural_network import MLPRegressor\n",
        "import seaborn as sns\n",
        "import random\n",
        "import time\n",
        "import os\n",
        "import warnings\n",
        "warnings.filterwarnings(\"ignore\")\n",
        "import lightgbm as lgb\n",
        "from sklearn.metrics import accuracy_score\n",
        "from sklearn.feature_selection import mutual_info_classif\n",
        "from sklearn.feature_extraction.text import CountVectorizer\n",
        "import requests\n",
        "#from boruta import BorutaPy\n",
        "from sklearn.feature_selection import mutual_info_classif\n",
        "from sklearn.feature_selection import SelectKBest\n",
        "from sklearn.ensemble import ExtraTreesClassifier\n"
      ]
    },
    {
      "cell_type": "markdown",
      "metadata": {
        "id": "NsoyCZbcy3TA"
      },
      "source": [
        "#1 - Criando Conjunto de Dados Simulado"
      ]
    },
    {
      "cell_type": "markdown",
      "source": [
        "## 1.1 Função geradora do conjunto de dados: A função ***gera_data_frame*** retorna um conjunto de dados sintéticos de classificação, variando os parâmetros:\n",
        "- número de observações no dataframe (linhas do conjunto de dados)\n",
        "- número de variáveis preditoras (colunas do conjunto de dados)\n",
        "- o limite do domínio das variáveis preditoras [1;inf)\n",
        "- número de periodos (safras) em que as observações foram coletadas. (Obs: default = 30, para atender TCL)\n",
        "- fator de desbalanceamento da target (default = 1, retorna um desbalanceamento na casa dos 70-30, em favor da classe 0). Valor do fator varia entre (0 ; 1.1]. Quanto mais próximo ao zero, mais balanceado (50-50), quanto mais próximo ao 1.1 mais desbalanceado(99.9-0.01) em favor da classe 0."
      ],
      "metadata": {
        "id": "uihEmCayn3am"
      }
    },
    {
      "cell_type": "code",
      "execution_count": null,
      "metadata": {
        "id": "FnMGlFjqy8-e"
      },
      "outputs": [],
      "source": [
        "def gera_data_frame(n,p,m,q=None,d=1):\n",
        "  #n = número de linhas do dataframe\n",
        "  #p = número de variáveis preditoras\n",
        "  #m = limite do domínio das variáveis preditoras, sendo o mínimo igual a 1\n",
        "  #q = Número de safras temporais na base de dados (default é de 30 safras por TCL)\n",
        "  #d = fator de desbalanceamento (default = 1, que retorna um desbalanceamento na casa dos 70-30) -> d varia entre (0 ; 1.1] (quanto mais próximo ao zero, mais balanceado, quanto mais próximo ao 1.1 mais desbalanceado)\n",
        "  if q is None:\n",
        "         q = n/30\n",
        "  df = pd.DataFrame({'index':list(range(0,n))})\n",
        "  import random\n",
        "  for i in range(0,p):\n",
        "    #w = random.randint(1,m)\n",
        "    mu = random.randint(1,m)\n",
        "    sigma = random.randint(1,m)\n",
        "    w = np.random.normal(mu, sigma, n)\n",
        "    df['v'+str(i)] = w\n",
        "    #df['v'+str(i)] = random.choices(list(range(0, w)), k=n)\n",
        "  df = df.drop(['index'],axis=1)\n",
        "  vp_resposta=[]\n",
        "  for z in range(0,n):\n",
        "    numero_aleatorio = round(random.random())\n",
        "    if (numero_aleatorio ==1) & (df.sum(axis=1)> ((df.sum(axis=1)).mean())*d)[z]:\n",
        "      numero_aleatorio = 1\n",
        "    else:\n",
        "      numero_aleatorio = 0\n",
        "    vp_resposta.append(numero_aleatorio)\n",
        "  df['target'] = vp_resposta\n",
        "  safras = (list(range(0,q))*int(n/q))\n",
        "  safras.sort(reverse=False)\n",
        "  safras = safras + [max(safras)]*(n - len(safras))\n",
        "  df['safra'] = safras\n",
        "  return df\n"
      ]
    },
    {
      "cell_type": "markdown",
      "metadata": {
        "id": "nv2MeXOy0CGn"
      },
      "source": [
        "### 1.1.1 Exemplo de Simulação com Dataframe de 1000 observações, 500 preditores com domínio até 200, distribuídos em 30 safras e desbalanceamento esperado na ordem de grandeza de 70-30."
      ]
    },
    {
      "cell_type": "code",
      "execution_count": null,
      "metadata": {
        "id": "OM5e4-liy80u"
      },
      "outputs": [],
      "source": [
        "df = gera_data_frame(1000,500,200,30,1)\n",
        "df.shape"
      ]
    },
    {
      "cell_type": "markdown",
      "source": [
        "### 1.1.2 Desbalanceamento da Target"
      ],
      "metadata": {
        "id": "S6X4-dLPnq5r"
      }
    },
    {
      "cell_type": "code",
      "source": [
        "df.target.value_counts(normalize=True)"
      ],
      "metadata": {
        "id": "_ulwD3JwOc64"
      },
      "execution_count": null,
      "outputs": []
    },
    {
      "cell_type": "code",
      "source": [
        "df.head(5)"
      ],
      "metadata": {
        "id": "Z9KRVqE3Od50"
      },
      "execution_count": null,
      "outputs": []
    },
    {
      "cell_type": "markdown",
      "source": [
        "# 2. Desenvolvimento Método Proposto (Spearman-Markowitz-Clusterizado)"
      ],
      "metadata": {
        "id": "hguIHvN3jRVD"
      }
    },
    {
      "cell_type": "code",
      "source": [
        "entrada_CSM = time.perf_counter()"
      ],
      "metadata": {
        "id": "Gq9BSuzv3vsZ"
      },
      "execution_count": null,
      "outputs": []
    },
    {
      "cell_type": "markdown",
      "source": [
        "## 2.1 Criação dos Grupos de Recursos (Via Coeficiente de Correlação de Spearman)"
      ],
      "metadata": {
        "id": "i-Zr4AuXkPOG"
      }
    },
    {
      "cell_type": "markdown",
      "metadata": {
        "id": "oS2_a0Ut37rx"
      },
      "source": [
        "###2.1.1 Calculando a Correlação via Spearman e Pearson das Features em relação a variável resposta"
      ]
    },
    {
      "cell_type": "code",
      "execution_count": null,
      "metadata": {
        "id": "q8tTswHJ-kd2"
      },
      "outputs": [],
      "source": [
        "#df.drop(['game_result'],axis=1).corr()\n",
        "#df.corr(method= 'spearman')\n",
        "target = 'target'\n",
        "variaveis = df.columns.drop(['target','safra'])\n",
        "correlacoes_p = []\n",
        "correlacoes_s = []\n",
        "\n",
        "for COLUNA in variaveis:\n",
        "  correlacoes_p.append(np.round(df[target].corr(df[COLUNA]),2))\n",
        "  correlacao, p = spearmanr(df[target], df[COLUNA])\n",
        "  correlacoes_s.append(np.round(correlacao,2))\n",
        "df_cor = pd.DataFrame({'Variaveis': variaveis, 'Correlacoes_S': correlacoes_s, 'Correlacoes_P': correlacoes_p})\n",
        "#df_cor.sort_values(by=['Correlacoes'])\n",
        "#df_cor.Correlacoes.min()\n",
        "#df_cor.Correlacoes.max()\n",
        "#df_cor.Correlacoes.quantile(q=0.75)\n",
        "#df_cor.Correlacoes.quantile(q=0.25)\n",
        "#df_cor.Correlacoes.quantile(q=0.5)\n"
      ]
    },
    {
      "cell_type": "code",
      "execution_count": null,
      "metadata": {
        "id": "sw7qyy1oytuR"
      },
      "outputs": [],
      "source": [
        "df_cor.sort_values(by=['Correlacoes_S'])"
      ]
    },
    {
      "cell_type": "code",
      "execution_count": null,
      "metadata": {
        "id": "RoiK8y6s9SHW"
      },
      "outputs": [],
      "source": [
        "df_cor.sort_values(by=['Correlacoes_S'])['Correlacoes_S'].max(),df_cor.sort_values(by=['Correlacoes_S'])['Correlacoes_S'].min()"
      ]
    },
    {
      "cell_type": "markdown",
      "source": [
        "### 2.1.2 Organizando as Features em grupos com base na similaridade de Correlação de Spearman"
      ],
      "metadata": {
        "id": "taD6ZN2ZkDN8"
      }
    },
    {
      "cell_type": "code",
      "source": [
        "df_cor = df_cor.dropna()\n",
        "df_cor['fx']= pd.qcut(df_cor['Correlacoes_P'], q=4)\n",
        "\n",
        "lista_variaveis_fx = []\n",
        "for i in list((range(0,len(pd.unique(df_cor['fx']))))):\n",
        "  lista_variaveis_fx.append(df_cor[df_cor['fx']==pd.unique(df_cor['fx'])[i]].Variaveis)\n",
        "\n",
        "\n",
        "tamanho_dos_grupos=[]\n",
        "lista_de_grupos=[]\n",
        "lista_variaveis_fx[0]\n",
        "for i in list(range(0,len(lista_variaveis_fx))):\n",
        "  lista_de_grupos.append('Grupo '+str(i))\n",
        "  tamanho_dos_grupos.append(len(lista_variaveis_fx[i]))\n",
        "\n",
        "divisao_grupos = pd.DataFrame({'Grupos':lista_de_grupos,'Tamanho do Grupo':tamanho_dos_grupos})\n",
        "divisao_grupos\n"
      ],
      "metadata": {
        "id": "Z3FiaVXWkBk2"
      },
      "execution_count": null,
      "outputs": []
    },
    {
      "cell_type": "markdown",
      "source": [
        "####2.1.2.3 Quantidade de Variáveis Preditoras Selecionadas:"
      ],
      "metadata": {
        "id": "_NsINXOrjhGi"
      }
    },
    {
      "cell_type": "code",
      "source": [
        "divisao_grupos['Tamanho do Grupo'].sum()"
      ],
      "metadata": {
        "id": "nJsqmzh6jg1P"
      },
      "execution_count": null,
      "outputs": []
    },
    {
      "cell_type": "markdown",
      "source": [
        "## 2.2 Ponderar a participação (importância) de cada Grupo de Recursos no treinamento do modelo (Via Teoria para Alocação de Portfólio de Markowitz)"
      ],
      "metadata": {
        "id": "U0efJrHljgXd"
      }
    },
    {
      "cell_type": "markdown",
      "source": [
        "### 2.2.1 Cálculo dos retornos (acurácia) dos grupos em cada safra"
      ],
      "metadata": {
        "id": "s-sOqYV5wFd4"
      }
    },
    {
      "cell_type": "code",
      "source": [
        "y = df['target']\n",
        "X_vetor = []\n",
        "X_vetor_train = []\n",
        "X_vetor_test = []\n",
        "y_vetor_train = []\n",
        "y_vetor_test = []\n",
        "for i in list(range(0,len(lista_variaveis_fx))):\n",
        "  X_vetor.append('X_'+str(i+1))\n",
        "  X_vetor_train.append('X_train_'+str(i+1))\n",
        "  X_vetor_test.append('X_test_'+str(i+1))\n",
        "  y_vetor_train.append('y_train_'+str(i+1))\n",
        "  y_vetor_test.append('y_test_'+str(i+1))\n",
        "\n",
        "for i in list(range(0,len(lista_variaveis_fx))):\n",
        "  X_vetor[i] = df[lista_variaveis_fx[i]]\n",
        "  X_vetor_train[i], X_vetor_test[i],y_vetor_train[i], y_vetor_test[i]= train_test_split(X_vetor[i], y, test_size = 0.3)\n",
        "\n",
        "retorno_grupo = []\n",
        "for i in list(range(0,len(X_vetor))):\n",
        "  df_x = X_vetor[0]\n",
        "  df_x['safra']=df['safra']\n",
        "  df_x['target']=df['target']\n",
        "  clf = lgb.LGBMClassifier()\n",
        "  retorno_safra = []\n",
        "  id_safra = []\n",
        "  for ANO in pd.unique(df_x['safra']):\n",
        "    df_xx = df_x[df_x.safra==ANO]\n",
        "    x_filtrado = df_xx.drop(['safra','target'], axis = 1)\n",
        "    y_filtrado = df_xx.target\n",
        "    x_filtrado_train, x_filtrado_test, y_filtrado_train, y_filtrado_test= train_test_split(x_filtrado, y_filtrado, test_size = 0.3)\n",
        "    clf.fit(x_filtrado_train, y_filtrado_train)\n",
        "    pred_filtrado =clf.predict(x_filtrado_test)\n",
        "    retorno_safra.append(accuracy_score(pred_filtrado, y_filtrado_test))\n",
        "    id_safra.append(ANO)\n",
        "  df_retornos = pd.DataFrame({'Retorno Grupo '+str(i): retorno_safra, 'Safra': id_safra})\n",
        "  retorno_grupo.append(df_retornos)\n",
        "df_retornos = reduce(lambda  left,right: pd.merge(left,right,on=['Safra'],how='outer'), retorno_grupo)"
      ],
      "metadata": {
        "id": "TsLGXpp6jgBU"
      },
      "execution_count": null,
      "outputs": []
    },
    {
      "cell_type": "code",
      "source": [
        "first_column = df_retornos.pop('Safra')\n",
        "df_retornos.insert(0, 'Safra', first_column)\n",
        "df_retornos"
      ],
      "metadata": {
        "id": "SAVg4dKFvGBx"
      },
      "execution_count": null,
      "outputs": []
    },
    {
      "cell_type": "markdown",
      "source": [
        "### 2.2.2 Construção da Fontreira eficiente (Risco vs Retorno). Em que, o risco é a variabilidade da acurácia."
      ],
      "metadata": {
        "id": "v-OYWqbEuFBu"
      }
    },
    {
      "cell_type": "code",
      "source": [
        "#Cálculo do retorno do portifolio\n",
        "def get_portfolio_returns(returns, weights):\n",
        "    return np.dot(returns.mean(), weights)\n",
        "#Cálculo do risco do portifólio, considerando o desvio padrão\n",
        "def get_portfolio_risk(returns, weights):\n",
        "    covariances = returns.cov()\n",
        "    var_risk = np.matmul(np.matmul((weights), covariances.values), weights)\n",
        "    std_risk = np.sqrt(var_risk)\n",
        "    return std_risk\n",
        "def mount_portfolio(x , args):\n",
        "    return get_portfolio_risk(args, x)\n",
        "def compute_frontier(returns_range, returns_df):\n",
        "    optimal_portfolios = []\n",
        "    #restrição para que a soma dos pesos não ultrapasse o valor 1\n",
        "    eq_constraint_proportions = {'type': 'eq', 'fun': lambda x: sum(x) - 1}\n",
        "    #definição dos limites inferior e superior dos pesos em 0 e 1, respectivamente\n",
        "    bounds = Bounds(ub=[1,1,1,1], lb=[0,0,0,0])\n",
        "\n",
        "\n",
        "    #ponto de paprtida para o algoritmo de otimização, foram utilizados pesos igualmente distribuídos\n",
        "    initial_guess = np.ones(len(returns_df.columns))*1/len(returns_df.columns)\n",
        "    for value in returns_range:\n",
        "        #restrição para garantir que o valor de retorno desejado será mantido\n",
        "        eq_constraint_return = {'type':'eq', 'fun': lambda x : get_portfolio_returns(returns_df, x) - value}\n",
        "\n",
        "        optimal_weights = minimize(mount_portfolio, x0 = initial_guess, method = 'SLSQP',\n",
        "                constraints = [eq_constraint_proportions, eq_constraint_return],\n",
        "                bounds=bounds,  options={'ftol':1e-9, 'disp':False},\n",
        "                args = (returns_df,))\n",
        "        optimal_portfolios.append(optimal_weights)\n",
        "\n",
        "    return optimal_portfolios\n"
      ],
      "metadata": {
        "id": "uMsFoaKPuqv_"
      },
      "execution_count": null,
      "outputs": []
    },
    {
      "cell_type": "code",
      "source": [
        "#Definição dos patamares de retorno máximo e mínimo\n",
        "real_returns = df_retornos.drop(['Safra'],axis=1)\n",
        "min_return = real_returns.mean().min()\n",
        "max_return = real_returns.mean().max()\n",
        "def generate_random_portfolios(num_samples, returns):\n",
        "    returns_from_random_weights = []\n",
        "    risks_from_random_weights = []\n",
        "    weights = []\n",
        "    for i in range(0, num_samples):\n",
        "        random_weights = np.random.rand(len(returns.columns))\n",
        "        random_weights = random_weights/np.sum(random_weights)\n",
        "        weights.append(random_weights)\n",
        "\n",
        "        random_return = get_portfolio_returns(returns, random_weights)\n",
        "        random_risk = get_portfolio_risk(returns, random_weights)\n",
        "\n",
        "        returns_from_random_weights.append(random_return)\n",
        "        risks_from_random_weights.append(random_risk)\n",
        "    return [risks_from_random_weights, returns_from_random_weights, weights]"
      ],
      "metadata": {
        "id": "JR65aTeCw6mV"
      },
      "execution_count": null,
      "outputs": []
    },
    {
      "cell_type": "code",
      "source": [
        "random_ports = generate_random_portfolios(10000, real_returns)\n",
        "plt.scatter(random_ports[0], random_ports[1])\n",
        "plt.ylabel('Retorno')\n",
        "plt.xlabel('Risco')"
      ],
      "metadata": {
        "id": "gF9Gey_CxCTX"
      },
      "execution_count": null,
      "outputs": []
    },
    {
      "cell_type": "markdown",
      "source": [
        "### 2.2.3 Definição dos pesos de participação de cada grupo no processo de modelagem, a partir de um critério de alocação ótima (Ex: maior retorno possível no menor risco)."
      ],
      "metadata": {
        "id": "Y_k-JfcbvSf6"
      }
    },
    {
      "cell_type": "code",
      "source": [
        "fronteira_eficiente = pd.DataFrame({'Risco':random_ports[0],'Retorno':random_ports[1], 'Pesos':random_ports[2]})\n",
        "fronteira_eficiente['Pesos'] = fronteira_eficiente.Pesos.apply(lambda x: np.round(x, 2))"
      ],
      "metadata": {
        "id": "1Obyhwv1yFzF"
      },
      "execution_count": null,
      "outputs": []
    },
    {
      "cell_type": "markdown",
      "source": [
        "#### 2.2.3.1 Binômio Risco-Retorno Ótimo (obs: Critério de variabilidade mínima, ou risco mínimo)"
      ],
      "metadata": {
        "id": "4gmW6X-uycms"
      }
    },
    {
      "cell_type": "code",
      "source": [
        "alocacao_otima = fronteira_eficiente[fronteira_eficiente.Risco ==fronteira_eficiente.Risco.min()]\n",
        "alocacao_otima[['Risco','Retorno']]"
      ],
      "metadata": {
        "id": "7xocKt_7yVhS"
      },
      "execution_count": null,
      "outputs": []
    },
    {
      "cell_type": "markdown",
      "source": [
        "#### 2.2.3.1 Distribuição do Índice de Importância de cada Grupo (Qual a porcentagem de features contidas em cada grupo deve participar do processo de treinamento do modelo)"
      ],
      "metadata": {
        "id": "_H5wTKBmyxhX"
      }
    },
    {
      "cell_type": "code",
      "source": [
        "alocacao_otima.Pesos"
      ],
      "metadata": {
        "id": "5q8cH76aygFT"
      },
      "execution_count": null,
      "outputs": []
    },
    {
      "cell_type": "markdown",
      "source": [
        "## 2.3 Redução aleatória dentro de cada Grupo de Features (respeitando o índice de Importância encontrado na etapa anterior)."
      ],
      "metadata": {
        "id": "s_C_QIGvzrSh"
      }
    },
    {
      "cell_type": "code",
      "source": [
        "divisao_grupos['Alocacao Otima'] = alocacao_otima.Pesos.values[0]\n",
        "divisao_grupos['Tamanho Final do Grupo'] = round((divisao_grupos['Tamanho do Grupo']*divisao_grupos['Alocacao Otima'])/divisao_grupos['Alocacao Otima'].sum(),0)\n",
        "divisao_grupos"
      ],
      "metadata": {
        "id": "iqP3T-Ax0aa3"
      },
      "execution_count": null,
      "outputs": []
    },
    {
      "cell_type": "code",
      "source": [
        "print('Número final de váriaveis: ',divisao_grupos['Tamanho Final do Grupo'].sum()),\n",
        "print('Isso equivale à ',100*(round(1 -(divisao_grupos['Tamanho Final do Grupo'].sum()/divisao_grupos['Tamanho do Grupo'].sum()),2)),'% de redução no volume das variáveis inicias')"
      ],
      "metadata": {
        "id": "ZgOSXqap0c21"
      },
      "execution_count": null,
      "outputs": []
    },
    {
      "cell_type": "code",
      "source": [
        "variaveis_filtradas_csm = []\n",
        "for i in list(range(0,len(X_vetor))):\n",
        "  df_x = X_vetor[i]\n",
        "  df_x = df_x.drop(['safra','target'],axis=1,errors='ignore')\n",
        "  df_x = df_x.sample(n=int(divisao_grupos['Tamanho Final do Grupo'][i]),axis='columns')\n",
        "  #df_x = df_x.sample(n=math.ceil(divisao_grupos['Alocacao Otima'][i]*df_x.shape[1]),axis='columns')\n",
        "  variaveis_filtradas_csm.extend(df_x.columns)"
      ],
      "metadata": {
        "id": "jUejyW5h1oTG"
      },
      "execution_count": null,
      "outputs": []
    },
    {
      "cell_type": "code",
      "source": [
        "saida_CSM = time.perf_counter()\n",
        "tempo_CSM = saida_CSM - entrada_CSM\n",
        "'O Projeto levou '+str(round(tempo_CSM,0))+' segundos para rodar até essa fase.'"
      ],
      "metadata": {
        "id": "aeBlp2a61xOT"
      },
      "execution_count": null,
      "outputs": []
    },
    {
      "cell_type": "markdown",
      "source": [
        "__________________________________________________________________________________________________________________________________________________________________________________________________________________________________________________________________________________________________________________________________________________________________________________________________________________________________________________________________________________________________________________________________________________________________________________________________________________________________________________________________________________________________________________________________________________________________________________________________________________________________________________________________________________________________________"
      ],
      "metadata": {
        "id": "9qcChull19id"
      }
    },
    {
      "cell_type": "markdown",
      "source": [
        "# 3. Implantação de Métodos Desafiantes:\n",
        "- Método de Filtragem por Informação Mútua\n",
        "- Método *Embedded* por Algorítmo ExtraTrees\n",
        "- Método Híbrido combinando Informação Mútua e Extratrees"
      ],
      "metadata": {
        "id": "7v9jE-zD2W01"
      }
    },
    {
      "cell_type": "markdown",
      "source": [
        "## 3.1 Método de Seleção Embedded via Algoritmo de Árvores Extremamente Aleatórias (ExtraTrees)"
      ],
      "metadata": {
        "id": "1TdXqtp64YB4"
      }
    },
    {
      "cell_type": "code",
      "source": [
        "entrada_ExtraTrees = time.perf_counter()\n",
        "def funcao_variaveis_importantes(DADOS,varesp = 'y'):\n",
        "        DADOS = DADOS.drop(['safra'], axis=1)\n",
        "        X = DADOS.loc [:, DADOS.columns != varesp]\n",
        "        Y = DADOS.loc [:, DADOS.columns == varesp]\n",
        "        warnings.filterwarnings(\"ignore\")\n",
        "        model = ExtraTreesClassifier()\n",
        "        model.fit(X,Y)\n",
        "        ind = X.shape[1]\n",
        "        variaveis = X.columns[0:ind]\n",
        "        importancia = pd.DataFrame(variaveis)\n",
        "        features = pd.DataFrame(model.feature_importances_)\n",
        "        importancia['Importancia']= features\n",
        "        importancia = importancia.rename(columns = {0:\"Variáveis\",\"Importancia\":\"Importancia\"})\n",
        "        return importancia.sort_values(['Importancia'], ascending=False)\n",
        "\n",
        "lista_vp_ExtraTrees = funcao_variaveis_importantes(df,varesp = 'target')\n",
        "X_filtrado_ExtraTrees = df[lista_vp_ExtraTrees[lista_vp_ExtraTrees.Importancia>0]['Variáveis'].values] #Importância maior que zero\n",
        "lista_vp_filtrada_ExtraTrees = X_filtrado_ExtraTrees.columns\n",
        "saida_ExtraTrees = time.perf_counter()\n",
        "tempo_ExtraTrees = saida_ExtraTrees - entrada_ExtraTrees\n",
        "'O algoritmo levou '+str(round(tempo_ExtraTrees,0))+' segundos para rodar e deixou '+str(len(lista_vp_filtrada_ExtraTrees))+' variáveis preditoras.'"
      ],
      "metadata": {
        "id": "NmAjiPMT48Ws"
      },
      "execution_count": null,
      "outputs": []
    },
    {
      "cell_type": "markdown",
      "source": [
        "## 3.2 Método de Seleção por Filtro via  Informação Mútua"
      ],
      "metadata": {
        "id": "MoQ6B3DI571L"
      }
    },
    {
      "cell_type": "code",
      "source": [
        "entrada_MI = time.perf_counter()\n",
        "variaveis = df.columns.drop(['target','safra'])\n",
        "X_train_mutual_info, X_test_mutual_info,y_train_mutual_info, y__test_mutual_info= train_test_split(df[variaveis], df[target].to_numpy(), test_size = 0.3)\n",
        "mutual_info = mutual_info_classif(X_train_mutual_info, y_train_mutual_info)\n",
        "mutual_info = pd.Series(mutual_info)\n",
        "mutual_info.index = X_train_mutual_info.columns\n",
        "lista_vp_filtrada_MI = mutual_info[mutual_info.sort_values(ascending=False)>0] #Ganho de Informação maior que zero\n",
        "saida_MI = time.perf_counter()\n",
        "tempo_MI = saida_MI - entrada_MI\n",
        "'O algoritmo levou '+str(round(tempo_MI,0))+' segundos para rodar e deixou '+str(len(lista_vp_filtrada_MI))+' variáveis preditoras.'"
      ],
      "metadata": {
        "id": "uVhWsaQt6KAm"
      },
      "execution_count": null,
      "outputs": []
    },
    {
      "cell_type": "markdown",
      "source": [
        "## 3.3 Método Combinado de Seleção (Informação Mutua e ExtraTrees)"
      ],
      "metadata": {
        "id": "Atw0VceV65LT"
      }
    },
    {
      "cell_type": "code",
      "source": [
        "entrada_COMBINADO = time.perf_counter()\n",
        "df_combinado = df[lista_vp_filtrada_MI.index]\n",
        "df_combinado['target'] = df.target\n",
        "def funcao_variaveis_importantes(DADOS,varesp = 'y'):\n",
        "        X = DADOS.loc [:, DADOS.columns != varesp]\n",
        "        Y = DADOS.loc [:, DADOS.columns == varesp]\n",
        "        warnings.filterwarnings(\"ignore\")\n",
        "        model = ExtraTreesClassifier()\n",
        "        model.fit(X,Y)\n",
        "        ind = X.shape[1]\n",
        "        variaveis = X.columns[0:ind]\n",
        "        importancia = pd.DataFrame(variaveis)\n",
        "        features = pd.DataFrame(model.feature_importances_)\n",
        "        importancia['Importancia']= features\n",
        "        importancia = importancia.rename(columns = {0:\"Variáveis\",\"Importancia\":\"Importancia\"})\n",
        "        return importancia.sort_values(['Importancia'], ascending=False)\n",
        "\n",
        "lista_vp_COMBINADO = funcao_variaveis_importantes(df_combinado,varesp = 'target')\n",
        "X_filtrado_COMBINADO = df_combinado[lista_vp_COMBINADO[lista_vp_COMBINADO.Importancia>0]['Variáveis'].values] #Importância maior que zero\n",
        "lista_vp_filtrada_COMBINADO = X_filtrado_COMBINADO.columns\n",
        "saida_COMBINADO = time.perf_counter()\n",
        "tempo_COMBINADO = saida_COMBINADO - entrada_COMBINADO\n",
        "'O algoritmo levou '+str(round(tempo_COMBINADO,0))+' segundos para rodar e deixou '+str(len(lista_vp_filtrada_COMBINADO))+' variáveis preditoras.'"
      ],
      "metadata": {
        "id": "gZhQbqhG7Utn"
      },
      "execution_count": null,
      "outputs": []
    },
    {
      "cell_type": "markdown",
      "source": [
        "# 4. Comparação do Desempenho dos Algoritmos: Análise se a exclusão de features resultou em perda significativa de performance.\n",
        "- Modelo construído com a base completa (Sem processo de seleção de feature)\n",
        "- Modelo construído com a base selecionada a partir do Método de Informação Mútua\n",
        "- Modelo construído com a base selecionada a partir do Método de Seleção ExtraTrees\n",
        "- Modelo construído com base selecionada a partir da combinação entre Informação Mutua e ExtraTrees\n",
        "- Modelo construído com base selecionada a partir do Método Proposto (Spearman-Markowitz Clusterizado)\n",
        "\n",
        "Obs: Para evitar viés do algoritmo, todos os modelos foram criados a partir do algoritmo LightGBM"
      ],
      "metadata": {
        "id": "b5432X8s85hr"
      }
    },
    {
      "cell_type": "markdown",
      "metadata": {
        "id": "TVOOC1nMFZsD"
      },
      "source": [
        "## 4.1 Acurácia estimada a partir de Modelo construído com a Base Completa"
      ]
    },
    {
      "cell_type": "code",
      "execution_count": null,
      "metadata": {
        "id": "_QlQP15IFbQc"
      },
      "outputs": [],
      "source": [
        "  entrada_FULL = time.perf_counter()\n",
        "  X_train, X_test,y_train, y__test= train_test_split(df[variaveis], df[target], test_size = 0.3)\n",
        "  clf = lgb.LGBMClassifier()\n",
        "  clf.fit(X_train, y_train)\n",
        "  predicao = clf.predict(X_test)\n",
        "  acuracia_total_FULL = accuracy_score(predicao, y__test)\n",
        "  saida_FULL = time.perf_counter()\n",
        "  tempo_FULL = saida_FULL - entrada_FULL\n",
        "  'O algoritmo levou '+str(round(tempo_FULL,0))+' segundos para rodar um modelo com todas as variáveis preditoras, obtedo uma acurácia de '+ str(round(acuracia_total_FULL,3))+'.'"
      ]
    },
    {
      "cell_type": "markdown",
      "metadata": {
        "id": "shJdV1yF_dH1"
      },
      "source": [
        "##4.2 Acurácia estimada a partir de Modelo construído com a base selecionada a partir do Método de Informação Mútua"
      ]
    },
    {
      "cell_type": "code",
      "execution_count": null,
      "metadata": {
        "id": "oRoIbNRoHm_5"
      },
      "outputs": [],
      "source": [
        "entrada_MI_model= time.perf_counter()\n",
        "sel_cols = SelectKBest(mutual_info_classif, k=len(lista_vp_filtrada_MI))\n",
        "sel_cols.fit(X_train_mutual_info, y_train_mutual_info)\n",
        "X_filtrado = df[X_train_mutual_info.columns[sel_cols.get_support()]]\n",
        "X_train, X_test,y_train, y_test= train_test_split(X_filtrado, df[target], test_size = 0.3)\n",
        "clf = lgb.LGBMClassifier()\n",
        "clf.fit(X_train, y_train)\n",
        "predicao = clf.predict(X_test)\n",
        "acuracia_total_MI_model = accuracy_score(predicao, y_test)\n",
        "saida_MI_model = time.perf_counter()\n",
        "tempo_MI_model = saida_MI_model - entrada_MI_model\n",
        "'O processo de Modelagem levou '+str(round(tempo_MI_model,0))+' segundos para rodar com '+str(len(lista_vp_filtrada_MI))+' variáveis preditoras, resultando em uma acurácia de '+ str(round(acuracia_total_MI_model,3))+'.'\n"
      ]
    },
    {
      "cell_type": "markdown",
      "metadata": {
        "id": "aoQfBe6o_lyF"
      },
      "source": [
        "## 4.3 Acurácia estimada a partir de Modelo construído com a base selecionada a partir do Método *Embedeed* via Algoritmo de Árvores Extremamente Aleatórias."
      ]
    },
    {
      "cell_type": "code",
      "execution_count": null,
      "metadata": {
        "id": "VjC6r8uDQ77U"
      },
      "outputs": [],
      "source": [
        "entrada_ExtraTree_Model = time.perf_counter()\n",
        "\n",
        "X_train, X_test,y_train, y_test= train_test_split(X_filtrado_ExtraTrees, df[target], test_size = 0.3)\n",
        "clf = lgb.LGBMClassifier()\n",
        "clf.fit(X_train, y_train)\n",
        "predicao = clf.predict(X_test)\n",
        "acuracia_ExtraTree_Model = accuracy_score(predicao, y_test)\n",
        "saida_ExtraTree_Model = time.perf_counter()\n",
        "tempo_ExtraTree_Model = saida_ExtraTree_Model - entrada_ExtraTree_Model\n",
        "'O processo de Modelagem levou '+str(round(tempo_ExtraTree_Model,0))+' segundos para rodar com '+str(len(lista_vp_filtrada_ExtraTrees))+' variáveis preditoras, resultando em uma acurácia de '+ str(round(acuracia_ExtraTree_Model,3))+'.'\n"
      ]
    },
    {
      "cell_type": "markdown",
      "source": [
        "## 4.4 Acurácia estimada a partir de Modelo construído com a base selecionada a partir do Método combinado entre a Informação Mútua e o Algoritmo de Árvores Extremamente Aleatórias."
      ],
      "metadata": {
        "id": "m2UM53xiBkcD"
      }
    },
    {
      "cell_type": "code",
      "source": [
        "entrada_combinado_Model = time.perf_counter()\n",
        "\n",
        "X_train, X_test,y_train, y_test= train_test_split(X_filtrado_COMBINADO, df[target], test_size = 0.3)\n",
        "clf = lgb.LGBMClassifier()\n",
        "clf.fit(X_train, y_train)\n",
        "predicao = clf.predict(X_test)\n",
        "acuracia_combinado_Model = accuracy_score(predicao, y_test)\n",
        "saida_combinado_Model = time.perf_counter()\n",
        "tempo_combinado_Model = saida_combinado_Model - entrada_combinado_Model\n",
        "'O processo de Modelagem levou '+str(round(tempo_combinado_Model,0))+' segundos para rodar com '+str(len(lista_vp_filtrada_ExtraTrees))+' variáveis preditoras, resultando em uma acurácia de '+ str(round(acuracia_combinado_Model,3))+'.'\n"
      ],
      "metadata": {
        "id": "zYbp43DmB4y2"
      },
      "execution_count": null,
      "outputs": []
    },
    {
      "cell_type": "markdown",
      "source": [
        "## 4.5 Acurácia estimada a partir de Modelo construído com a base selecionada a partir do Método Spearman-Markowitz Clusterizado."
      ],
      "metadata": {
        "id": "I1tW0k-mDXAb"
      }
    },
    {
      "cell_type": "code",
      "source": [
        "entrada_CSM_model = time.perf_counter()\n",
        "X_train_final, X_test_final,y_train_final, y_test_final= train_test_split(df[variaveis_filtradas_csm], df[target], test_size = 0.3)\n",
        "clf = lgb.LGBMClassifier()\n",
        "clf.fit(X_train_final, y_train_final)\n",
        "predicao = clf.predict(X_test_final)\n",
        "acuracia_CSM_model = accuracy_score(predicao, y_test_final)\n",
        "saida_CSM_model = time.perf_counter()\n",
        "tempo_CSM_model = saida_CSM_model - entrada_CSM_model\n",
        "'A proposta levou '+str(round(tempo_CSM_model,0))+' segundos para rodar com '+str(len(variaveis_filtradas_csm))+' variáveis preditoras, resultando em uma acurácia de '+ str(round(acuracia_CSM_model,3))+'.'"
      ],
      "metadata": {
        "id": "LkVLe1KlDwWZ"
      },
      "execution_count": null,
      "outputs": []
    },
    {
      "cell_type": "markdown",
      "source": [
        "# 5. Tabela Resumo de desempenhos:\n"
      ],
      "metadata": {
        "id": "k0xJvQqAFc9V"
      }
    },
    {
      "cell_type": "code",
      "source": [
        "Metodo_de_Seleção = ['Sem Seleção','Informação Mutua', 'ExtraTrees','Combinado', 'CSM']\n",
        "N_features = [df.shape[1]-2,len(lista_vp_filtrada_MI),len(lista_vp_filtrada_ExtraTrees),len(lista_vp_filtrada_COMBINADO),len(variaveis_filtradas_csm)]\n",
        "Performance = [round(acuracia_total_FULL,3),round(acuracia_total_MI_model,3),round(acuracia_ExtraTree_Model,3),round(acuracia_combinado_Model,3),round(acuracia_CSM_model,3)]\n",
        "Tempo_modelagem = [round(tempo_FULL,3),round(tempo_MI_model,3),round(tempo_ExtraTree_Model,3),round(tempo_combinado_Model,3),round(tempo_CSM_model,3)]\n",
        "Tempo_selecao = [0,round(tempo_MI,3),round(tempo_ExtraTrees,3),round(tempo_COMBINADO,3),round(tempo_CSM,3)]\n",
        "\n",
        "resultados = pd.DataFrame({'Métodos de Seleção':Metodo_de_Seleção,'N° de Features':N_features,'Acurácia do Modelo Final':Performance,\n",
        "              'Tempo de Treinamento do Modelo':Tempo_modelagem,'Tempo do Processamento da Seleção de Feat.':Tempo_selecao})\n",
        "\n",
        "resultados.sort_values(by=['Acurácia do Modelo Final'], ascending=False)"
      ],
      "metadata": {
        "colab": {
          "base_uri": "https://localhost:8080/",
          "height": 206
        },
        "id": "5_rvN2ThHMTZ",
        "outputId": "abe4b22f-c7a9-4acf-8b48-682cf12a0541"
      },
      "execution_count": null,
      "outputs": [
        {
          "output_type": "execute_result",
          "data": {
            "text/plain": [
              "  Métodos de Seleção  N° de Features  Acurácia do Modelo Final  \\\n",
              "2         ExtraTrees             500                     0.777   \n",
              "3          Combinado             235                     0.777   \n",
              "4                CSM             120                     0.770   \n",
              "0        Sem Seleção             500                     0.763   \n",
              "1   Informação Mutua             235                     0.750   \n",
              "\n",
              "   Tempo de Treinamento do Modelo  Tempo do Processamento da Seleção de Feat.  \n",
              "2                           4.460                                       0.523  \n",
              "3                           1.974                                       0.363  \n",
              "4                           0.951                                      20.075  \n",
              "0                           4.085                                       0.000  \n",
              "1                           4.562                                       2.181  "
            ],
            "text/html": [
              "\n",
              "  <div id=\"df-af3c0471-49bf-44f5-bf1e-270e676f3b3f\" class=\"colab-df-container\">\n",
              "    <div>\n",
              "<style scoped>\n",
              "    .dataframe tbody tr th:only-of-type {\n",
              "        vertical-align: middle;\n",
              "    }\n",
              "\n",
              "    .dataframe tbody tr th {\n",
              "        vertical-align: top;\n",
              "    }\n",
              "\n",
              "    .dataframe thead th {\n",
              "        text-align: right;\n",
              "    }\n",
              "</style>\n",
              "<table border=\"1\" class=\"dataframe\">\n",
              "  <thead>\n",
              "    <tr style=\"text-align: right;\">\n",
              "      <th></th>\n",
              "      <th>Métodos de Seleção</th>\n",
              "      <th>N° de Features</th>\n",
              "      <th>Acurácia do Modelo Final</th>\n",
              "      <th>Tempo de Treinamento do Modelo</th>\n",
              "      <th>Tempo do Processamento da Seleção de Feat.</th>\n",
              "    </tr>\n",
              "  </thead>\n",
              "  <tbody>\n",
              "    <tr>\n",
              "      <th>2</th>\n",
              "      <td>ExtraTrees</td>\n",
              "      <td>500</td>\n",
              "      <td>0.777</td>\n",
              "      <td>4.460</td>\n",
              "      <td>0.523</td>\n",
              "    </tr>\n",
              "    <tr>\n",
              "      <th>3</th>\n",
              "      <td>Combinado</td>\n",
              "      <td>235</td>\n",
              "      <td>0.777</td>\n",
              "      <td>1.974</td>\n",
              "      <td>0.363</td>\n",
              "    </tr>\n",
              "    <tr>\n",
              "      <th>4</th>\n",
              "      <td>CSM</td>\n",
              "      <td>120</td>\n",
              "      <td>0.770</td>\n",
              "      <td>0.951</td>\n",
              "      <td>20.075</td>\n",
              "    </tr>\n",
              "    <tr>\n",
              "      <th>0</th>\n",
              "      <td>Sem Seleção</td>\n",
              "      <td>500</td>\n",
              "      <td>0.763</td>\n",
              "      <td>4.085</td>\n",
              "      <td>0.000</td>\n",
              "    </tr>\n",
              "    <tr>\n",
              "      <th>1</th>\n",
              "      <td>Informação Mutua</td>\n",
              "      <td>235</td>\n",
              "      <td>0.750</td>\n",
              "      <td>4.562</td>\n",
              "      <td>2.181</td>\n",
              "    </tr>\n",
              "  </tbody>\n",
              "</table>\n",
              "</div>\n",
              "    <div class=\"colab-df-buttons\">\n",
              "\n",
              "  <div class=\"colab-df-container\">\n",
              "    <button class=\"colab-df-convert\" onclick=\"convertToInteractive('df-af3c0471-49bf-44f5-bf1e-270e676f3b3f')\"\n",
              "            title=\"Convert this dataframe to an interactive table.\"\n",
              "            style=\"display:none;\">\n",
              "\n",
              "  <svg xmlns=\"http://www.w3.org/2000/svg\" height=\"24px\" viewBox=\"0 -960 960 960\">\n",
              "    <path d=\"M120-120v-720h720v720H120Zm60-500h600v-160H180v160Zm220 220h160v-160H400v160Zm0 220h160v-160H400v160ZM180-400h160v-160H180v160Zm440 0h160v-160H620v160ZM180-180h160v-160H180v160Zm440 0h160v-160H620v160Z\"/>\n",
              "  </svg>\n",
              "    </button>\n",
              "\n",
              "  <style>\n",
              "    .colab-df-container {\n",
              "      display:flex;\n",
              "      gap: 12px;\n",
              "    }\n",
              "\n",
              "    .colab-df-convert {\n",
              "      background-color: #E8F0FE;\n",
              "      border: none;\n",
              "      border-radius: 50%;\n",
              "      cursor: pointer;\n",
              "      display: none;\n",
              "      fill: #1967D2;\n",
              "      height: 32px;\n",
              "      padding: 0 0 0 0;\n",
              "      width: 32px;\n",
              "    }\n",
              "\n",
              "    .colab-df-convert:hover {\n",
              "      background-color: #E2EBFA;\n",
              "      box-shadow: 0px 1px 2px rgba(60, 64, 67, 0.3), 0px 1px 3px 1px rgba(60, 64, 67, 0.15);\n",
              "      fill: #174EA6;\n",
              "    }\n",
              "\n",
              "    .colab-df-buttons div {\n",
              "      margin-bottom: 4px;\n",
              "    }\n",
              "\n",
              "    [theme=dark] .colab-df-convert {\n",
              "      background-color: #3B4455;\n",
              "      fill: #D2E3FC;\n",
              "    }\n",
              "\n",
              "    [theme=dark] .colab-df-convert:hover {\n",
              "      background-color: #434B5C;\n",
              "      box-shadow: 0px 1px 3px 1px rgba(0, 0, 0, 0.15);\n",
              "      filter: drop-shadow(0px 1px 2px rgba(0, 0, 0, 0.3));\n",
              "      fill: #FFFFFF;\n",
              "    }\n",
              "  </style>\n",
              "\n",
              "    <script>\n",
              "      const buttonEl =\n",
              "        document.querySelector('#df-af3c0471-49bf-44f5-bf1e-270e676f3b3f button.colab-df-convert');\n",
              "      buttonEl.style.display =\n",
              "        google.colab.kernel.accessAllowed ? 'block' : 'none';\n",
              "\n",
              "      async function convertToInteractive(key) {\n",
              "        const element = document.querySelector('#df-af3c0471-49bf-44f5-bf1e-270e676f3b3f');\n",
              "        const dataTable =\n",
              "          await google.colab.kernel.invokeFunction('convertToInteractive',\n",
              "                                                    [key], {});\n",
              "        if (!dataTable) return;\n",
              "\n",
              "        const docLinkHtml = 'Like what you see? Visit the ' +\n",
              "          '<a target=\"_blank\" href=https://colab.research.google.com/notebooks/data_table.ipynb>data table notebook</a>'\n",
              "          + ' to learn more about interactive tables.';\n",
              "        element.innerHTML = '';\n",
              "        dataTable['output_type'] = 'display_data';\n",
              "        await google.colab.output.renderOutput(dataTable, element);\n",
              "        const docLink = document.createElement('div');\n",
              "        docLink.innerHTML = docLinkHtml;\n",
              "        element.appendChild(docLink);\n",
              "      }\n",
              "    </script>\n",
              "  </div>\n",
              "\n",
              "\n",
              "<div id=\"df-37f4a656-dd1d-4187-8a4b-e9fcd4b58ade\">\n",
              "  <button class=\"colab-df-quickchart\" onclick=\"quickchart('df-37f4a656-dd1d-4187-8a4b-e9fcd4b58ade')\"\n",
              "            title=\"Suggest charts.\"\n",
              "            style=\"display:none;\">\n",
              "\n",
              "<svg xmlns=\"http://www.w3.org/2000/svg\" height=\"24px\"viewBox=\"0 0 24 24\"\n",
              "     width=\"24px\">\n",
              "    <g>\n",
              "        <path d=\"M19 3H5c-1.1 0-2 .9-2 2v14c0 1.1.9 2 2 2h14c1.1 0 2-.9 2-2V5c0-1.1-.9-2-2-2zM9 17H7v-7h2v7zm4 0h-2V7h2v10zm4 0h-2v-4h2v4z\"/>\n",
              "    </g>\n",
              "</svg>\n",
              "  </button>\n",
              "\n",
              "<style>\n",
              "  .colab-df-quickchart {\n",
              "      --bg-color: #E8F0FE;\n",
              "      --fill-color: #1967D2;\n",
              "      --hover-bg-color: #E2EBFA;\n",
              "      --hover-fill-color: #174EA6;\n",
              "      --disabled-fill-color: #AAA;\n",
              "      --disabled-bg-color: #DDD;\n",
              "  }\n",
              "\n",
              "  [theme=dark] .colab-df-quickchart {\n",
              "      --bg-color: #3B4455;\n",
              "      --fill-color: #D2E3FC;\n",
              "      --hover-bg-color: #434B5C;\n",
              "      --hover-fill-color: #FFFFFF;\n",
              "      --disabled-bg-color: #3B4455;\n",
              "      --disabled-fill-color: #666;\n",
              "  }\n",
              "\n",
              "  .colab-df-quickchart {\n",
              "    background-color: var(--bg-color);\n",
              "    border: none;\n",
              "    border-radius: 50%;\n",
              "    cursor: pointer;\n",
              "    display: none;\n",
              "    fill: var(--fill-color);\n",
              "    height: 32px;\n",
              "    padding: 0;\n",
              "    width: 32px;\n",
              "  }\n",
              "\n",
              "  .colab-df-quickchart:hover {\n",
              "    background-color: var(--hover-bg-color);\n",
              "    box-shadow: 0 1px 2px rgba(60, 64, 67, 0.3), 0 1px 3px 1px rgba(60, 64, 67, 0.15);\n",
              "    fill: var(--button-hover-fill-color);\n",
              "  }\n",
              "\n",
              "  .colab-df-quickchart-complete:disabled,\n",
              "  .colab-df-quickchart-complete:disabled:hover {\n",
              "    background-color: var(--disabled-bg-color);\n",
              "    fill: var(--disabled-fill-color);\n",
              "    box-shadow: none;\n",
              "  }\n",
              "\n",
              "  .colab-df-spinner {\n",
              "    border: 2px solid var(--fill-color);\n",
              "    border-color: transparent;\n",
              "    border-bottom-color: var(--fill-color);\n",
              "    animation:\n",
              "      spin 1s steps(1) infinite;\n",
              "  }\n",
              "\n",
              "  @keyframes spin {\n",
              "    0% {\n",
              "      border-color: transparent;\n",
              "      border-bottom-color: var(--fill-color);\n",
              "      border-left-color: var(--fill-color);\n",
              "    }\n",
              "    20% {\n",
              "      border-color: transparent;\n",
              "      border-left-color: var(--fill-color);\n",
              "      border-top-color: var(--fill-color);\n",
              "    }\n",
              "    30% {\n",
              "      border-color: transparent;\n",
              "      border-left-color: var(--fill-color);\n",
              "      border-top-color: var(--fill-color);\n",
              "      border-right-color: var(--fill-color);\n",
              "    }\n",
              "    40% {\n",
              "      border-color: transparent;\n",
              "      border-right-color: var(--fill-color);\n",
              "      border-top-color: var(--fill-color);\n",
              "    }\n",
              "    60% {\n",
              "      border-color: transparent;\n",
              "      border-right-color: var(--fill-color);\n",
              "    }\n",
              "    80% {\n",
              "      border-color: transparent;\n",
              "      border-right-color: var(--fill-color);\n",
              "      border-bottom-color: var(--fill-color);\n",
              "    }\n",
              "    90% {\n",
              "      border-color: transparent;\n",
              "      border-bottom-color: var(--fill-color);\n",
              "    }\n",
              "  }\n",
              "</style>\n",
              "\n",
              "  <script>\n",
              "    async function quickchart(key) {\n",
              "      const quickchartButtonEl =\n",
              "        document.querySelector('#' + key + ' button');\n",
              "      quickchartButtonEl.disabled = true;  // To prevent multiple clicks.\n",
              "      quickchartButtonEl.classList.add('colab-df-spinner');\n",
              "      try {\n",
              "        const charts = await google.colab.kernel.invokeFunction(\n",
              "            'suggestCharts', [key], {});\n",
              "      } catch (error) {\n",
              "        console.error('Error during call to suggestCharts:', error);\n",
              "      }\n",
              "      quickchartButtonEl.classList.remove('colab-df-spinner');\n",
              "      quickchartButtonEl.classList.add('colab-df-quickchart-complete');\n",
              "    }\n",
              "    (() => {\n",
              "      let quickchartButtonEl =\n",
              "        document.querySelector('#df-37f4a656-dd1d-4187-8a4b-e9fcd4b58ade button');\n",
              "      quickchartButtonEl.style.display =\n",
              "        google.colab.kernel.accessAllowed ? 'block' : 'none';\n",
              "    })();\n",
              "  </script>\n",
              "</div>\n",
              "    </div>\n",
              "  </div>\n"
            ]
          },
          "metadata": {},
          "execution_count": 184
        }
      ]
    }
  ],
  "metadata": {
    "colab": {
      "provenance": [],
      "collapsed_sections": [
        "opFYVoBC3hz8",
        "NsoyCZbcy3TA",
        "S6X4-dLPnq5r",
        "hguIHvN3jRVD",
        "7v9jE-zD2W01",
        "1TdXqtp64YB4",
        "MoQ6B3DI571L",
        "Atw0VceV65LT",
        "b5432X8s85hr",
        "TVOOC1nMFZsD",
        "shJdV1yF_dH1",
        "aoQfBe6o_lyF"
      ]
    },
    "kernelspec": {
      "display_name": "Python 3",
      "name": "python3"
    },
    "language_info": {
      "name": "python"
    }
  },
  "nbformat": 4,
  "nbformat_minor": 0
}
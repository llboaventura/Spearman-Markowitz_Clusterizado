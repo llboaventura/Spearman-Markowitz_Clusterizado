{
  "cells": [
    {
      "cell_type": "markdown",
      "metadata": {
        "id": "DVDV1gO5CqUI"
      },
      "source": [
        "##Import Libraries"
      ]
    },
    {
      "cell_type": "code",
      "execution_count": 58,
      "metadata": {
        "id": "YR6e1d1a6_dY"
      },
      "outputs": [],
      "source": [
        "import pandas as pd\n",
        "import lightgbm as lgb\n",
        "import math\n",
        "from sklearn.metrics import f1_score\n",
        "from sklearn.metrics import recall_score\n",
        "from sklearn.metrics import precision_score\n",
        "from sklearn.neighbors import KNeighborsClassifier\n",
        "from numpy.random import rand\n",
        "from numpy.random import seed\n",
        "from sklearn import preprocessing\n",
        "from sklearn.model_selection import train_test_split\n",
        "from scipy.stats import spearmanr\n",
        "import numpy as np\n",
        "from sklearn.preprocessing import MinMaxScaler\n",
        "import matplotlib.pyplot as plt\n",
        "from scipy import stats\n",
        "import re\n",
        "from functools import reduce\n",
        "from sklearn.ensemble import RandomForestClassifier\n",
        "from scipy.optimize import Bounds,  minimize\n",
        "from sklearn.metrics import mean_squared_error\n",
        "from sklearn.model_selection import train_test_split\n",
        "from sklearn.neural_network import MLPRegressor\n",
        "import seaborn as sns\n",
        "import random\n",
        "import time\n",
        "import os\n",
        "from sklearn.metrics import confusion_matrix\n",
        "from sklearn.model_selection import GridSearchCV\n",
        "import warnings\n",
        "warnings.filterwarnings(\"ignore\")\n",
        "from sklearn.metrics import accuracy_score\n",
        "from sklearn.feature_selection import mutual_info_classif\n",
        "from sklearn.feature_extraction.text import CountVectorizer\n",
        "import requests\n",
        "#from boruta import BorutaPy\n",
        "from sklearn.feature_selection import mutual_info_classif\n",
        "from sklearn.feature_selection import SelectKBest\n",
        "from sklearn.ensemble import ExtraTreesClassifier"
      ]
    },
    {
      "cell_type": "markdown",
      "metadata": {
        "id": "c8Q-K9fvCvnk"
      },
      "source": [
        "## Import Dataset"
      ]
    },
    {
      "cell_type": "code",
      "execution_count": 20,
      "metadata": {
        "colab": {
          "base_uri": "https://localhost:8080/"
        },
        "id": "BkBcjpjH5dO8",
        "outputId": "652bcb7d-a341-40d1-e578-548dd54a8c52"
      },
      "outputs": [
        {
          "output_type": "stream",
          "name": "stdout",
          "text": [
            "Drive already mounted at /content/drive; to attempt to forcibly remount, call drive.mount(\"/content/drive\", force_remount=True).\n"
          ]
        }
      ],
      "source": [
        "from google.colab import drive\n",
        "drive.mount('/content/drive')"
      ]
    },
    {
      "cell_type": "code",
      "execution_count": 21,
      "metadata": {
        "id": "SLUj4c4S6bhU"
      },
      "outputs": [],
      "source": [
        "df_row = pd.read_csv('/content/drive/My Drive/loan.csv')"
      ]
    },
    {
      "cell_type": "code",
      "execution_count": 22,
      "metadata": {
        "colab": {
          "base_uri": "https://localhost:8080/"
        },
        "id": "dcBEl2Wv9MI2",
        "outputId": "c776950f-5183-4eb9-d307-7bc101bb3db4"
      },
      "outputs": [
        {
          "output_type": "execute_result",
          "data": {
            "text/plain": [
              "(2260668, 145)"
            ]
          },
          "metadata": {},
          "execution_count": 22
        }
      ],
      "source": [
        "df_row.shape"
      ]
    },
    {
      "cell_type": "markdown",
      "metadata": {
        "id": "4NHLgORNC3zi"
      },
      "source": [
        "#### Pre-Target Distribution"
      ]
    },
    {
      "cell_type": "code",
      "execution_count": 23,
      "metadata": {
        "colab": {
          "base_uri": "https://localhost:8080/",
          "height": 398
        },
        "id": "tQT-YvPGhEkm",
        "outputId": "df31840d-0ccf-4224-e5d4-7ee23dd5b55b"
      },
      "outputs": [
        {
          "output_type": "execute_result",
          "data": {
            "text/plain": [
              "loan_status\n",
              "Fully Paid                                             1041952\n",
              "Current                                                 919695\n",
              "Charged Off                                             261655\n",
              "Late (31-120 days)                                       21897\n",
              "In Grace Period                                           8952\n",
              "Late (16-30 days)                                         3737\n",
              "Does not meet the credit policy. Status:Fully Paid        1988\n",
              "Does not meet the credit policy. Status:Charged Off        761\n",
              "Default                                                     31\n",
              "Name: count, dtype: int64"
            ],
            "text/html": [
              "<div>\n",
              "<style scoped>\n",
              "    .dataframe tbody tr th:only-of-type {\n",
              "        vertical-align: middle;\n",
              "    }\n",
              "\n",
              "    .dataframe tbody tr th {\n",
              "        vertical-align: top;\n",
              "    }\n",
              "\n",
              "    .dataframe thead th {\n",
              "        text-align: right;\n",
              "    }\n",
              "</style>\n",
              "<table border=\"1\" class=\"dataframe\">\n",
              "  <thead>\n",
              "    <tr style=\"text-align: right;\">\n",
              "      <th></th>\n",
              "      <th>count</th>\n",
              "    </tr>\n",
              "    <tr>\n",
              "      <th>loan_status</th>\n",
              "      <th></th>\n",
              "    </tr>\n",
              "  </thead>\n",
              "  <tbody>\n",
              "    <tr>\n",
              "      <th>Fully Paid</th>\n",
              "      <td>1041952</td>\n",
              "    </tr>\n",
              "    <tr>\n",
              "      <th>Current</th>\n",
              "      <td>919695</td>\n",
              "    </tr>\n",
              "    <tr>\n",
              "      <th>Charged Off</th>\n",
              "      <td>261655</td>\n",
              "    </tr>\n",
              "    <tr>\n",
              "      <th>Late (31-120 days)</th>\n",
              "      <td>21897</td>\n",
              "    </tr>\n",
              "    <tr>\n",
              "      <th>In Grace Period</th>\n",
              "      <td>8952</td>\n",
              "    </tr>\n",
              "    <tr>\n",
              "      <th>Late (16-30 days)</th>\n",
              "      <td>3737</td>\n",
              "    </tr>\n",
              "    <tr>\n",
              "      <th>Does not meet the credit policy. Status:Fully Paid</th>\n",
              "      <td>1988</td>\n",
              "    </tr>\n",
              "    <tr>\n",
              "      <th>Does not meet the credit policy. Status:Charged Off</th>\n",
              "      <td>761</td>\n",
              "    </tr>\n",
              "    <tr>\n",
              "      <th>Default</th>\n",
              "      <td>31</td>\n",
              "    </tr>\n",
              "  </tbody>\n",
              "</table>\n",
              "</div><br><label><b>dtype:</b> int64</label>"
            ]
          },
          "metadata": {},
          "execution_count": 23
        }
      ],
      "source": [
        "df_row['loan_status'].value_counts()"
      ]
    },
    {
      "cell_type": "markdown",
      "metadata": {
        "id": "fTndyE_WDIR6"
      },
      "source": [
        "#### Cleaning the Dataset"
      ]
    },
    {
      "cell_type": "code",
      "execution_count": 24,
      "metadata": {
        "colab": {
          "base_uri": "https://localhost:8080/"
        },
        "id": "HaboUvzv_BDn",
        "outputId": "479ba701-d341-4b6f-8930-1f8510a7caaa"
      },
      "outputs": [
        {
          "output_type": "execute_result",
          "data": {
            "text/plain": [
              "(2257886, 106)"
            ]
          },
          "metadata": {},
          "execution_count": 24
        }
      ],
      "source": [
        "df = df_row.loc[:, df_row.isnull().mean() < .8]\n",
        "#df = df[(df.loan_status != 'In Grace Period')]\n",
        "df = df.dropna(thresh=int(len(df.columns)*0.5))\n",
        "colunas_objetos = df.columns[df.dtypes=='object']\n",
        "df = df.apply(lambda x: x.fillna(0) if x.dtype.kind in 'biufc' else x.fillna('Sem_Info'))\n",
        "df.shape"
      ]
    },
    {
      "cell_type": "code",
      "execution_count": 25,
      "metadata": {
        "colab": {
          "base_uri": "https://localhost:8080/",
          "height": 398
        },
        "id": "FL3MCbpW9cVo",
        "outputId": "9604192c-e161-4240-a883-fab8fd49749f"
      },
      "outputs": [
        {
          "output_type": "execute_result",
          "data": {
            "text/plain": [
              "loan_status\n",
              "Fully Paid                                             1039844\n",
              "Current                                                 919695\n",
              "Charged Off                                             261093\n",
              "Late (31-120 days)                                       21897\n",
              "In Grace Period                                           8952\n",
              "Late (16-30 days)                                         3737\n",
              "Does not meet the credit policy. Status:Fully Paid        1912\n",
              "Does not meet the credit policy. Status:Charged Off        725\n",
              "Default                                                     31\n",
              "Name: count, dtype: int64"
            ],
            "text/html": [
              "<div>\n",
              "<style scoped>\n",
              "    .dataframe tbody tr th:only-of-type {\n",
              "        vertical-align: middle;\n",
              "    }\n",
              "\n",
              "    .dataframe tbody tr th {\n",
              "        vertical-align: top;\n",
              "    }\n",
              "\n",
              "    .dataframe thead th {\n",
              "        text-align: right;\n",
              "    }\n",
              "</style>\n",
              "<table border=\"1\" class=\"dataframe\">\n",
              "  <thead>\n",
              "    <tr style=\"text-align: right;\">\n",
              "      <th></th>\n",
              "      <th>count</th>\n",
              "    </tr>\n",
              "    <tr>\n",
              "      <th>loan_status</th>\n",
              "      <th></th>\n",
              "    </tr>\n",
              "  </thead>\n",
              "  <tbody>\n",
              "    <tr>\n",
              "      <th>Fully Paid</th>\n",
              "      <td>1039844</td>\n",
              "    </tr>\n",
              "    <tr>\n",
              "      <th>Current</th>\n",
              "      <td>919695</td>\n",
              "    </tr>\n",
              "    <tr>\n",
              "      <th>Charged Off</th>\n",
              "      <td>261093</td>\n",
              "    </tr>\n",
              "    <tr>\n",
              "      <th>Late (31-120 days)</th>\n",
              "      <td>21897</td>\n",
              "    </tr>\n",
              "    <tr>\n",
              "      <th>In Grace Period</th>\n",
              "      <td>8952</td>\n",
              "    </tr>\n",
              "    <tr>\n",
              "      <th>Late (16-30 days)</th>\n",
              "      <td>3737</td>\n",
              "    </tr>\n",
              "    <tr>\n",
              "      <th>Does not meet the credit policy. Status:Fully Paid</th>\n",
              "      <td>1912</td>\n",
              "    </tr>\n",
              "    <tr>\n",
              "      <th>Does not meet the credit policy. Status:Charged Off</th>\n",
              "      <td>725</td>\n",
              "    </tr>\n",
              "    <tr>\n",
              "      <th>Default</th>\n",
              "      <td>31</td>\n",
              "    </tr>\n",
              "  </tbody>\n",
              "</table>\n",
              "</div><br><label><b>dtype:</b> int64</label>"
            ]
          },
          "metadata": {},
          "execution_count": 25
        }
      ],
      "source": [
        "df['loan_status'].value_counts()"
      ]
    },
    {
      "cell_type": "markdown",
      "metadata": {
        "id": "MXA1mgMeDND4"
      },
      "source": [
        "### Target Definition"
      ]
    },
    {
      "cell_type": "markdown",
      "metadata": {
        "id": "f4A6suNYYzIy"
      },
      "source": [
        "Tiramos da base todos que estão em periodo de carência (In grace period) porque n seria possível saber se seriam um bom ou mau pagador. Assumimos todos os que estão com contratos quitados, ou em aberto mas sem faturas vencidas como bons, e os demais clientes, como maus pagadores."
      ]
    },
    {
      "cell_type": "code",
      "execution_count": 26,
      "metadata": {
        "id": "bzUk1HJE8gW-"
      },
      "outputs": [],
      "source": [
        "def get_target(target):\n",
        "    if target == 'Fully Paid':\n",
        "        return 0\n",
        "    #elif target == 'Does not meet the credit policy. Status:Fully Paid':\n",
        "    #    return 0\n",
        "    elif target == 'Current':\n",
        "        return 0\n",
        "    else:\n",
        "        return 1"
      ]
    },
    {
      "cell_type": "code",
      "execution_count": 27,
      "metadata": {
        "colab": {
          "base_uri": "https://localhost:8080/",
          "height": 178
        },
        "id": "-2czqdRB69zm",
        "outputId": "e651c102-aae5-4ffe-c6ad-e862a08ec958"
      },
      "outputs": [
        {
          "output_type": "execute_result",
          "data": {
            "text/plain": [
              "target\n",
              "0    0.867864\n",
              "1    0.132136\n",
              "Name: proportion, dtype: float64"
            ],
            "text/html": [
              "<div>\n",
              "<style scoped>\n",
              "    .dataframe tbody tr th:only-of-type {\n",
              "        vertical-align: middle;\n",
              "    }\n",
              "\n",
              "    .dataframe tbody tr th {\n",
              "        vertical-align: top;\n",
              "    }\n",
              "\n",
              "    .dataframe thead th {\n",
              "        text-align: right;\n",
              "    }\n",
              "</style>\n",
              "<table border=\"1\" class=\"dataframe\">\n",
              "  <thead>\n",
              "    <tr style=\"text-align: right;\">\n",
              "      <th></th>\n",
              "      <th>proportion</th>\n",
              "    </tr>\n",
              "    <tr>\n",
              "      <th>target</th>\n",
              "      <th></th>\n",
              "    </tr>\n",
              "  </thead>\n",
              "  <tbody>\n",
              "    <tr>\n",
              "      <th>0</th>\n",
              "      <td>0.867864</td>\n",
              "    </tr>\n",
              "    <tr>\n",
              "      <th>1</th>\n",
              "      <td>0.132136</td>\n",
              "    </tr>\n",
              "  </tbody>\n",
              "</table>\n",
              "</div><br><label><b>dtype:</b> float64</label>"
            ]
          },
          "metadata": {},
          "execution_count": 27
        }
      ],
      "source": [
        "df['target'] = df['loan_status'].apply(get_target)\n",
        "df['target'].value_counts(normalize=True,dropna= False)"
      ]
    },
    {
      "cell_type": "code",
      "execution_count": 28,
      "metadata": {
        "colab": {
          "base_uri": "https://localhost:8080/"
        },
        "id": "Rjs2x-6_ohHv",
        "outputId": "1c4430be-88db-4a0c-b20c-540435ab8541"
      },
      "outputs": [
        {
          "output_type": "execute_result",
          "data": {
            "text/plain": [
              "(2257886, 107)"
            ]
          },
          "metadata": {},
          "execution_count": 28
        }
      ],
      "source": [
        "df.shape"
      ]
    },
    {
      "cell_type": "code",
      "source": [
        "df[colunas_objetos] = df[colunas_objetos].apply(lambda x: x.astype('category').cat.codes)\n",
        "target = 'target'\n",
        "safra = 'issue_d'\n",
        "variaveis = df.columns.drop([target,safra])"
      ],
      "metadata": {
        "id": "da-oLwFBADHN"
      },
      "execution_count": 31,
      "outputs": []
    },
    {
      "cell_type": "markdown",
      "metadata": {
        "id": "tdz8a0en-_Ar"
      },
      "source": [
        "## Challenging: LGBM without Feature Selection"
      ]
    },
    {
      "cell_type": "code",
      "execution_count": 32,
      "metadata": {
        "colab": {
          "base_uri": "https://localhost:8080/"
        },
        "id": "3Cw-zHe45fhV",
        "outputId": "630c1999-3bce-4b76-e70f-02639b81bdcd"
      },
      "outputs": [
        {
          "output_type": "stream",
          "name": "stdout",
          "text": [
            "[LightGBM] [Info] Number of positive: 208820, number of negative: 1371700\n",
            "[LightGBM] [Info] Auto-choosing row-wise multi-threading, the overhead of testing was 0.106526 seconds.\n",
            "You can set `force_row_wise=true` to remove the overhead.\n",
            "And if memory is not enough, you can set `force_col_wise=true`.\n",
            "[LightGBM] [Info] Total Bins 13143\n",
            "[LightGBM] [Info] Number of data points in the train set: 1580520, number of used features: 104\n",
            "[LightGBM] [Info] [binary:BoostFromScore]: pavg=0.132121 -> initscore=-1.882333\n",
            "[LightGBM] [Info] Start training from score -1.882333\n"
          ]
        },
        {
          "output_type": "execute_result",
          "data": {
            "text/plain": [
              "0.8969896658527295"
            ]
          },
          "metadata": {},
          "execution_count": 32
        }
      ],
      "source": [
        "X_train, X_test,y_train, y__test= train_test_split(df[variaveis], df[target], test_size = 0.3)\n",
        "clf = lgb.LGBMClassifier()\n",
        "clf.fit(X_train, y_train)\n",
        "predicao = clf.predict(X_test)\n",
        "acuracia_total_FULL = accuracy_score(predicao, y__test)\n",
        "acuracia_total_FULL"
      ]
    },
    {
      "cell_type": "code",
      "source": [
        "acuracia_total_FULL = np.round((acuracia_total_FULL*100),2)"
      ],
      "metadata": {
        "id": "jHbSZfE-VQjV"
      },
      "execution_count": null,
      "outputs": []
    },
    {
      "cell_type": "markdown",
      "metadata": {
        "id": "RlhE_6wM_zZh"
      },
      "source": [
        "## Challenging: LGBM with Feature Selection by Mutual Information Method"
      ]
    },
    {
      "cell_type": "code",
      "execution_count": 33,
      "metadata": {
        "id": "bBT6O0FP_5t8"
      },
      "outputs": [],
      "source": [
        "variaveis = df.columns.drop([target,safra])\n",
        "X_train_mutual_info, X_test_mutual_info,y_train_mutual_info, y__test_mutual_info= train_test_split(df[variaveis], df[target].to_numpy(), test_size = 0.3)\n",
        "mutual_info = mutual_info_classif(X_train_mutual_info, y_train_mutual_info)\n",
        "mutual_info = pd.Series(mutual_info)\n",
        "mutual_info.index = X_train_mutual_info.columns\n",
        "lista_vp_filtrada_MI = mutual_info[mutual_info.sort_values(ascending=False)>0] #Ganho de Informação maior que zero"
      ]
    },
    {
      "cell_type": "code",
      "execution_count": 36,
      "metadata": {
        "colab": {
          "base_uri": "https://localhost:8080/"
        },
        "id": "wmHV0KmxAS-n",
        "outputId": "9c84581e-e104-499e-836c-5908b33c6521"
      },
      "outputs": [
        {
          "output_type": "stream",
          "name": "stdout",
          "text": [
            "[LightGBM] [Info] Number of positive: 208774, number of negative: 1371746\n",
            "[LightGBM] [Info] Auto-choosing row-wise multi-threading, the overhead of testing was 0.107512 seconds.\n",
            "You can set `force_row_wise=true` to remove the overhead.\n",
            "And if memory is not enough, you can set `force_col_wise=true`.\n",
            "[LightGBM] [Info] Total Bins 12960\n",
            "[LightGBM] [Info] Number of data points in the train set: 1580520, number of used features: 102\n",
            "[LightGBM] [Info] [binary:BoostFromScore]: pavg=0.132092 -> initscore=-1.882587\n",
            "[LightGBM] [Info] Start training from score -1.882587\n"
          ]
        }
      ],
      "source": [
        "sel_cols = SelectKBest(mutual_info_classif, k=len(lista_vp_filtrada_MI))\n",
        "sel_cols.fit(X_train_mutual_info, y_train_mutual_info)\n",
        "X_filtrado = df[X_train_mutual_info.columns[sel_cols.get_support()]]\n",
        "X_train, X_test,y_train, y_test_1= train_test_split(X_filtrado, df[target], test_size = 0.3)\n",
        "clf = lgb.LGBMClassifier()\n",
        "clf.fit(X_train, y_train)\n",
        "predicao_1 = clf.predict(X_test)\n",
        "acuracia_total_MI_model = accuracy_score(predicao_1, y_test_1)"
      ]
    },
    {
      "cell_type": "code",
      "source": [
        "acuracia_total_MI_model = np.round((acuracia_total_MI_model*100),2)"
      ],
      "metadata": {
        "id": "btFGAa3GVbCY"
      },
      "execution_count": null,
      "outputs": []
    },
    {
      "cell_type": "code",
      "execution_count": 37,
      "metadata": {
        "colab": {
          "base_uri": "https://localhost:8080/"
        },
        "id": "vZIRpAYgEmmF",
        "outputId": "cc46ac45-2d93-4b54-be4b-e7dd5acc78d5"
      },
      "outputs": [
        {
          "output_type": "stream",
          "name": "stdout",
          "text": [
            "103 variaveis ; acuracia: 0.9019852369324708\n"
          ]
        }
      ],
      "source": [
        "\n",
        "print(len(lista_vp_filtrada_MI), \"variaveis\",  \"; acuracia:\", acuracia_total_MI_model)"
      ]
    },
    {
      "cell_type": "markdown",
      "metadata": {
        "id": "KEMzPEozALLH"
      },
      "source": [
        "## Challenging: LGBM with Feature Selection by Extra Tress\n"
      ]
    },
    {
      "cell_type": "code",
      "execution_count": 38,
      "metadata": {
        "id": "vOrWb-ODAPSM"
      },
      "outputs": [],
      "source": [
        "def funcao_variaveis_importantes(DADOS,varesp = 'y'):\n",
        "        DADOS = DADOS.drop([safra], axis=1)\n",
        "        X = DADOS.loc [:, DADOS.columns != varesp]\n",
        "        Y = DADOS.loc [:, DADOS.columns == varesp]\n",
        "        warnings.filterwarnings(\"ignore\")\n",
        "        model = ExtraTreesClassifier()\n",
        "        model.fit(X,Y)\n",
        "        ind = X.shape[1]\n",
        "        variaveis = X.columns[0:ind]\n",
        "        importancia = pd.DataFrame(variaveis)\n",
        "        features = pd.DataFrame(model.feature_importances_)\n",
        "        importancia['Importancia']= features\n",
        "        importancia = importancia.rename(columns = {0:\"Variáveis\",\"Importancia\":\"Importancia\"})\n",
        "        return importancia.sort_values(['Importancia'], ascending=False)\n",
        "\n",
        "lista_vp_ExtraTrees = funcao_variaveis_importantes(df,varesp = 'target')\n",
        "X_filtrado_ExtraTrees = df[lista_vp_ExtraTrees[lista_vp_ExtraTrees.Importancia>0]['Variáveis'].values] #Importância maior que zero\n",
        "lista_vp_filtrada_ExtraTrees = X_filtrado_ExtraTrees.columns"
      ]
    },
    {
      "cell_type": "code",
      "execution_count": 39,
      "metadata": {
        "colab": {
          "base_uri": "https://localhost:8080/"
        },
        "id": "Z1MJppcKATyc",
        "outputId": "5c2d38b8-5ae2-4b3d-cd03-d415d0b67c1e"
      },
      "outputs": [
        {
          "output_type": "stream",
          "name": "stdout",
          "text": [
            "[LightGBM] [Info] Number of positive: 208519, number of negative: 1372001\n",
            "[LightGBM] [Info] Auto-choosing row-wise multi-threading, the overhead of testing was 0.099528 seconds.\n",
            "You can set `force_row_wise=true` to remove the overhead.\n",
            "And if memory is not enough, you can set `force_col_wise=true`.\n",
            "[LightGBM] [Info] Total Bins 13172\n",
            "[LightGBM] [Info] Number of data points in the train set: 1580520, number of used features: 104\n",
            "[LightGBM] [Info] [binary:BoostFromScore]: pavg=0.131931 -> initscore=-1.883995\n",
            "[LightGBM] [Info] Start training from score -1.883995\n"
          ]
        }
      ],
      "source": [
        "X_train, X_test,y_train, y_test_2= train_test_split(X_filtrado_ExtraTrees, df[target], test_size = 0.3)\n",
        "clf = lgb.LGBMClassifier()\n",
        "clf.fit(X_train, y_train)\n",
        "predicao_2 = clf.predict(X_test)\n",
        "acuracia_ExtraTree_Model = accuracy_score(predicao_2, y_test_2)"
      ]
    },
    {
      "cell_type": "code",
      "execution_count": 40,
      "metadata": {
        "colab": {
          "base_uri": "https://localhost:8080/"
        },
        "id": "m8zi2L0AE0_r",
        "outputId": "5827767a-09cc-4185-ec6c-6e73618a38f5"
      },
      "outputs": [
        {
          "output_type": "stream",
          "name": "stdout",
          "text": [
            "104 variaveis ; acuracia: 0.9039896658527296\n"
          ]
        }
      ],
      "source": [
        "print(len(lista_vp_filtrada_ExtraTrees), \"variaveis\",  \"; acuracia:\", acuracia_ExtraTree_Model)"
      ]
    },
    {
      "cell_type": "code",
      "source": [
        "acuracia_ExtraTree_Model = np.round((acuracia_ExtraTree_Modell*100),2)"
      ],
      "metadata": {
        "id": "wcHwGsySVggN"
      },
      "execution_count": null,
      "outputs": []
    },
    {
      "cell_type": "markdown",
      "metadata": {
        "id": "rLggC7Mh_TSj"
      },
      "source": [
        "## Challenging: LGBM with Feature Selection by Hybrid Method (Mutual Information e ExtraTrees)\n",
        "\n"
      ]
    },
    {
      "cell_type": "code",
      "execution_count": 41,
      "metadata": {
        "id": "JsMzBOs__bmM"
      },
      "outputs": [],
      "source": [
        "df_combinado = df[lista_vp_filtrada_MI.index]\n",
        "df_combinado['target'] = df.target\n",
        "def funcao_variaveis_importantes(DADOS,varesp = 'y'):\n",
        "        X = DADOS.loc [:, DADOS.columns != varesp]\n",
        "        Y = DADOS.loc [:, DADOS.columns == varesp]\n",
        "        warnings.filterwarnings(\"ignore\")\n",
        "        model = ExtraTreesClassifier()\n",
        "        model.fit(X,Y)\n",
        "        ind = X.shape[1]\n",
        "        variaveis = X.columns[0:ind]\n",
        "        importancia = pd.DataFrame(variaveis)\n",
        "        features = pd.DataFrame(model.feature_importances_)\n",
        "        importancia['Importancia']= features\n",
        "        importancia = importancia.rename(columns = {0:\"Variáveis\",\"Importancia\":\"Importancia\"})\n",
        "        return importancia.sort_values(['Importancia'], ascending=False)\n",
        "\n",
        "lista_vp_COMBINADO = funcao_variaveis_importantes(df_combinado,varesp = 'target')\n",
        "X_filtrado_COMBINADO = df_combinado[lista_vp_COMBINADO[lista_vp_COMBINADO.Importancia>0]['Variáveis'].values] #Importância maior que zero\n",
        "lista_vp_filtrada_COMBINADO = X_filtrado_COMBINADO.columns"
      ]
    },
    {
      "cell_type": "code",
      "execution_count": 42,
      "metadata": {
        "colab": {
          "base_uri": "https://localhost:8080/"
        },
        "id": "UVg4bPRn_m-L",
        "outputId": "0609a94f-a8b7-4306-9ed6-3c2081771258"
      },
      "outputs": [
        {
          "output_type": "stream",
          "name": "stdout",
          "text": [
            "[LightGBM] [Info] Number of positive: 209152, number of negative: 1371368\n",
            "[LightGBM] [Info] Auto-choosing row-wise multi-threading, the overhead of testing was 0.107667 seconds.\n",
            "You can set `force_row_wise=true` to remove the overhead.\n",
            "And if memory is not enough, you can set `force_col_wise=true`.\n",
            "[LightGBM] [Info] Total Bins 12955\n",
            "[LightGBM] [Info] Number of data points in the train set: 1580520, number of used features: 102\n",
            "[LightGBM] [Info] [binary:BoostFromScore]: pavg=0.132331 -> initscore=-1.880503\n",
            "[LightGBM] [Info] Start training from score -1.880503\n"
          ]
        }
      ],
      "source": [
        "X_train, X_test,y_train, y_test_3= train_test_split(X_filtrado_COMBINADO, df[target], test_size = 0.3)\n",
        "clf = lgb.LGBMClassifier()\n",
        "clf.fit(X_train, y_train)\n",
        "predicao_3 = clf.predict(X_test)\n",
        "acuracia_combinado_Model = accuracy_score(predicao_3, y_test_3)"
      ]
    },
    {
      "cell_type": "code",
      "execution_count": 44,
      "metadata": {
        "colab": {
          "base_uri": "https://localhost:8080/"
        },
        "id": "sgY5p4NMFBqV",
        "outputId": "fd698c4b-5aed-42f7-f9eb-b2f3a535087a"
      },
      "outputs": [
        {
          "output_type": "stream",
          "name": "stdout",
          "text": [
            "102 variaveis ; acuracia: 0.9119940947729883\n"
          ]
        }
      ],
      "source": [
        "print(len(lista_vp_filtrada_COMBINADO), \"variaveis\",  \"; acuracia:\", acuracia_combinado_Model)"
      ]
    },
    {
      "cell_type": "code",
      "source": [
        "acuracia_combinado_Model = np.round((acuracia_combinado_Model*100),2)"
      ],
      "metadata": {
        "id": "UPs7iozqVpHP"
      },
      "execution_count": null,
      "outputs": []
    },
    {
      "cell_type": "markdown",
      "source": [
        "# Summary Final Model Performance"
      ],
      "metadata": {
        "id": "SvJGxQUMDJi1"
      }
    },
    {
      "cell_type": "code",
      "execution_count": 59,
      "metadata": {
        "id": "JTb67UiPBGp3"
      },
      "outputs": [],
      "source": [
        "Metodo_de_Selecao = ['Sem Seleção','Informação Mutua', 'ExtraTrees','Combinado']\n",
        "N_features = [df.shape[1]-2,len(lista_vp_filtrada_MI),len(lista_vp_filtrada_ExtraTrees),len(lista_vp_filtrada_COMBINADO)]\n",
        "acuracia= [round(acuracia_total_FULL,3),round(acuracia_total_MI_model,3),round(acuracia_ExtraTree_Model,3),round(acuracia_combinado_Model,3)]\n",
        "precisao = [(np.round(precision_score(predicao, y__test, average='weighted'),5)*100),\n",
        "            (np.round(precision_score(predicao_1, y_test_1, average='weighted'),5)*100),\n",
        "            (np.round(precision_score(predicao_2, y_test_2, average='weighted'),5)*100),\n",
        "            (np.round(precision_score(predicao_3, y_test_3, average='weighted'),5)*100)]\n",
        "recall = [(np.round(recall_score(predicao, y__test, average='macro'),5)*100),\n",
        "            (np.round(recall_score(predicao_1, y_test_1, average='macro'),5)*100),\n",
        "            (np.round(recall_score(predicao_2, y_test_2, average='macro'),5)*100),\n",
        "            (np.round(recall_score(predicao_3, y_test_3, average='macro'),5)*100)]\n",
        "\n",
        "F1_score_ = [(np.round(f1_score(predicao, y__test, average='weighted'),5)*100),\n",
        "            (np.round(f1_score(predicao_1, y_test_1, average='weighted'),5)*100),\n",
        "            (np.round(f1_score(predicao_2, y_test_2, average='weighted'),5)*100),\n",
        "            (np.round(f1_score(predicao_3, y_test_3, average='weighted'),5)*100)]"
      ]
    },
    {
      "cell_type": "code",
      "source": [
        "resultados = pd.DataFrame({\n",
        "    'Method Seleccion':Metodo_de_Selecao,\n",
        "    'N° de Features':N_features,\n",
        "    'Accuracy':acuracia,\n",
        "    'F1 Score': F1_score_,\n",
        "    'Precision':precisao,\n",
        "    'Recall':recall})\n",
        "\n",
        "resultados.sort_values(by=['Accuracy'], ascending=False)"
      ],
      "metadata": {
        "colab": {
          "base_uri": "https://localhost:8080/",
          "height": 175
        },
        "id": "raaT1KLAQwTX",
        "outputId": "5351d922-95aa-45b3-9aca-db6e519c7c6c"
      },
      "execution_count": 86,
      "outputs": [
        {
          "output_type": "execute_result",
          "data": {
            "text/plain": [
              "   Method Seleccion  N° de Features  Accuracy  F1 Score  Precision  Recall\n",
              "3         Combinado             102      91.2     90.94      90.80   91.13\n",
              "2        ExtraTrees             104      90.4     90.60      90.10   90.65\n",
              "1  Informação Mutua             103      90.2     88.10      89.79   91.00\n",
              "0       Sem Seleção             105      89.7     84.58      88.89   90.91"
            ],
            "text/html": [
              "\n",
              "  <div id=\"df-45b1afc4-0701-4a06-8f9f-e61a439f2a8e\" class=\"colab-df-container\">\n",
              "    <div>\n",
              "<style scoped>\n",
              "    .dataframe tbody tr th:only-of-type {\n",
              "        vertical-align: middle;\n",
              "    }\n",
              "\n",
              "    .dataframe tbody tr th {\n",
              "        vertical-align: top;\n",
              "    }\n",
              "\n",
              "    .dataframe thead th {\n",
              "        text-align: right;\n",
              "    }\n",
              "</style>\n",
              "<table border=\"1\" class=\"dataframe\">\n",
              "  <thead>\n",
              "    <tr style=\"text-align: right;\">\n",
              "      <th></th>\n",
              "      <th>Method Seleccion</th>\n",
              "      <th>N° de Features</th>\n",
              "      <th>Accuracy</th>\n",
              "      <th>F1 Score</th>\n",
              "      <th>Precision</th>\n",
              "      <th>Recall</th>\n",
              "    </tr>\n",
              "  </thead>\n",
              "  <tbody>\n",
              "    <tr>\n",
              "      <th>3</th>\n",
              "      <td>Combinado</td>\n",
              "      <td>102</td>\n",
              "      <td>91.2</td>\n",
              "      <td>90.94</td>\n",
              "      <td>90.80</td>\n",
              "      <td>91.13</td>\n",
              "    </tr>\n",
              "    <tr>\n",
              "      <th>2</th>\n",
              "      <td>ExtraTrees</td>\n",
              "      <td>104</td>\n",
              "      <td>90.4</td>\n",
              "      <td>90.60</td>\n",
              "      <td>90.10</td>\n",
              "      <td>90.65</td>\n",
              "    </tr>\n",
              "    <tr>\n",
              "      <th>1</th>\n",
              "      <td>Informação Mutua</td>\n",
              "      <td>103</td>\n",
              "      <td>90.2</td>\n",
              "      <td>88.10</td>\n",
              "      <td>89.79</td>\n",
              "      <td>91.00</td>\n",
              "    </tr>\n",
              "    <tr>\n",
              "      <th>0</th>\n",
              "      <td>Sem Seleção</td>\n",
              "      <td>105</td>\n",
              "      <td>89.7</td>\n",
              "      <td>84.58</td>\n",
              "      <td>88.89</td>\n",
              "      <td>90.91</td>\n",
              "    </tr>\n",
              "  </tbody>\n",
              "</table>\n",
              "</div>\n",
              "    <div class=\"colab-df-buttons\">\n",
              "\n",
              "  <div class=\"colab-df-container\">\n",
              "    <button class=\"colab-df-convert\" onclick=\"convertToInteractive('df-45b1afc4-0701-4a06-8f9f-e61a439f2a8e')\"\n",
              "            title=\"Convert this dataframe to an interactive table.\"\n",
              "            style=\"display:none;\">\n",
              "\n",
              "  <svg xmlns=\"http://www.w3.org/2000/svg\" height=\"24px\" viewBox=\"0 -960 960 960\">\n",
              "    <path d=\"M120-120v-720h720v720H120Zm60-500h600v-160H180v160Zm220 220h160v-160H400v160Zm0 220h160v-160H400v160ZM180-400h160v-160H180v160Zm440 0h160v-160H620v160ZM180-180h160v-160H180v160Zm440 0h160v-160H620v160Z\"/>\n",
              "  </svg>\n",
              "    </button>\n",
              "\n",
              "  <style>\n",
              "    .colab-df-container {\n",
              "      display:flex;\n",
              "      gap: 12px;\n",
              "    }\n",
              "\n",
              "    .colab-df-convert {\n",
              "      background-color: #E8F0FE;\n",
              "      border: none;\n",
              "      border-radius: 50%;\n",
              "      cursor: pointer;\n",
              "      display: none;\n",
              "      fill: #1967D2;\n",
              "      height: 32px;\n",
              "      padding: 0 0 0 0;\n",
              "      width: 32px;\n",
              "    }\n",
              "\n",
              "    .colab-df-convert:hover {\n",
              "      background-color: #E2EBFA;\n",
              "      box-shadow: 0px 1px 2px rgba(60, 64, 67, 0.3), 0px 1px 3px 1px rgba(60, 64, 67, 0.15);\n",
              "      fill: #174EA6;\n",
              "    }\n",
              "\n",
              "    .colab-df-buttons div {\n",
              "      margin-bottom: 4px;\n",
              "    }\n",
              "\n",
              "    [theme=dark] .colab-df-convert {\n",
              "      background-color: #3B4455;\n",
              "      fill: #D2E3FC;\n",
              "    }\n",
              "\n",
              "    [theme=dark] .colab-df-convert:hover {\n",
              "      background-color: #434B5C;\n",
              "      box-shadow: 0px 1px 3px 1px rgba(0, 0, 0, 0.15);\n",
              "      filter: drop-shadow(0px 1px 2px rgba(0, 0, 0, 0.3));\n",
              "      fill: #FFFFFF;\n",
              "    }\n",
              "  </style>\n",
              "\n",
              "    <script>\n",
              "      const buttonEl =\n",
              "        document.querySelector('#df-45b1afc4-0701-4a06-8f9f-e61a439f2a8e button.colab-df-convert');\n",
              "      buttonEl.style.display =\n",
              "        google.colab.kernel.accessAllowed ? 'block' : 'none';\n",
              "\n",
              "      async function convertToInteractive(key) {\n",
              "        const element = document.querySelector('#df-45b1afc4-0701-4a06-8f9f-e61a439f2a8e');\n",
              "        const dataTable =\n",
              "          await google.colab.kernel.invokeFunction('convertToInteractive',\n",
              "                                                    [key], {});\n",
              "        if (!dataTable) return;\n",
              "\n",
              "        const docLinkHtml = 'Like what you see? Visit the ' +\n",
              "          '<a target=\"_blank\" href=https://colab.research.google.com/notebooks/data_table.ipynb>data table notebook</a>'\n",
              "          + ' to learn more about interactive tables.';\n",
              "        element.innerHTML = '';\n",
              "        dataTable['output_type'] = 'display_data';\n",
              "        await google.colab.output.renderOutput(dataTable, element);\n",
              "        const docLink = document.createElement('div');\n",
              "        docLink.innerHTML = docLinkHtml;\n",
              "        element.appendChild(docLink);\n",
              "      }\n",
              "    </script>\n",
              "  </div>\n",
              "\n",
              "\n",
              "<div id=\"df-06281053-dfd3-4b31-a121-2c0ba8d9c7e7\">\n",
              "  <button class=\"colab-df-quickchart\" onclick=\"quickchart('df-06281053-dfd3-4b31-a121-2c0ba8d9c7e7')\"\n",
              "            title=\"Suggest charts\"\n",
              "            style=\"display:none;\">\n",
              "\n",
              "<svg xmlns=\"http://www.w3.org/2000/svg\" height=\"24px\"viewBox=\"0 0 24 24\"\n",
              "     width=\"24px\">\n",
              "    <g>\n",
              "        <path d=\"M19 3H5c-1.1 0-2 .9-2 2v14c0 1.1.9 2 2 2h14c1.1 0 2-.9 2-2V5c0-1.1-.9-2-2-2zM9 17H7v-7h2v7zm4 0h-2V7h2v10zm4 0h-2v-4h2v4z\"/>\n",
              "    </g>\n",
              "</svg>\n",
              "  </button>\n",
              "\n",
              "<style>\n",
              "  .colab-df-quickchart {\n",
              "      --bg-color: #E8F0FE;\n",
              "      --fill-color: #1967D2;\n",
              "      --hover-bg-color: #E2EBFA;\n",
              "      --hover-fill-color: #174EA6;\n",
              "      --disabled-fill-color: #AAA;\n",
              "      --disabled-bg-color: #DDD;\n",
              "  }\n",
              "\n",
              "  [theme=dark] .colab-df-quickchart {\n",
              "      --bg-color: #3B4455;\n",
              "      --fill-color: #D2E3FC;\n",
              "      --hover-bg-color: #434B5C;\n",
              "      --hover-fill-color: #FFFFFF;\n",
              "      --disabled-bg-color: #3B4455;\n",
              "      --disabled-fill-color: #666;\n",
              "  }\n",
              "\n",
              "  .colab-df-quickchart {\n",
              "    background-color: var(--bg-color);\n",
              "    border: none;\n",
              "    border-radius: 50%;\n",
              "    cursor: pointer;\n",
              "    display: none;\n",
              "    fill: var(--fill-color);\n",
              "    height: 32px;\n",
              "    padding: 0;\n",
              "    width: 32px;\n",
              "  }\n",
              "\n",
              "  .colab-df-quickchart:hover {\n",
              "    background-color: var(--hover-bg-color);\n",
              "    box-shadow: 0 1px 2px rgba(60, 64, 67, 0.3), 0 1px 3px 1px rgba(60, 64, 67, 0.15);\n",
              "    fill: var(--button-hover-fill-color);\n",
              "  }\n",
              "\n",
              "  .colab-df-quickchart-complete:disabled,\n",
              "  .colab-df-quickchart-complete:disabled:hover {\n",
              "    background-color: var(--disabled-bg-color);\n",
              "    fill: var(--disabled-fill-color);\n",
              "    box-shadow: none;\n",
              "  }\n",
              "\n",
              "  .colab-df-spinner {\n",
              "    border: 2px solid var(--fill-color);\n",
              "    border-color: transparent;\n",
              "    border-bottom-color: var(--fill-color);\n",
              "    animation:\n",
              "      spin 1s steps(1) infinite;\n",
              "  }\n",
              "\n",
              "  @keyframes spin {\n",
              "    0% {\n",
              "      border-color: transparent;\n",
              "      border-bottom-color: var(--fill-color);\n",
              "      border-left-color: var(--fill-color);\n",
              "    }\n",
              "    20% {\n",
              "      border-color: transparent;\n",
              "      border-left-color: var(--fill-color);\n",
              "      border-top-color: var(--fill-color);\n",
              "    }\n",
              "    30% {\n",
              "      border-color: transparent;\n",
              "      border-left-color: var(--fill-color);\n",
              "      border-top-color: var(--fill-color);\n",
              "      border-right-color: var(--fill-color);\n",
              "    }\n",
              "    40% {\n",
              "      border-color: transparent;\n",
              "      border-right-color: var(--fill-color);\n",
              "      border-top-color: var(--fill-color);\n",
              "    }\n",
              "    60% {\n",
              "      border-color: transparent;\n",
              "      border-right-color: var(--fill-color);\n",
              "    }\n",
              "    80% {\n",
              "      border-color: transparent;\n",
              "      border-right-color: var(--fill-color);\n",
              "      border-bottom-color: var(--fill-color);\n",
              "    }\n",
              "    90% {\n",
              "      border-color: transparent;\n",
              "      border-bottom-color: var(--fill-color);\n",
              "    }\n",
              "  }\n",
              "</style>\n",
              "\n",
              "  <script>\n",
              "    async function quickchart(key) {\n",
              "      const quickchartButtonEl =\n",
              "        document.querySelector('#' + key + ' button');\n",
              "      quickchartButtonEl.disabled = true;  // To prevent multiple clicks.\n",
              "      quickchartButtonEl.classList.add('colab-df-spinner');\n",
              "      try {\n",
              "        const charts = await google.colab.kernel.invokeFunction(\n",
              "            'suggestCharts', [key], {});\n",
              "      } catch (error) {\n",
              "        console.error('Error during call to suggestCharts:', error);\n",
              "      }\n",
              "      quickchartButtonEl.classList.remove('colab-df-spinner');\n",
              "      quickchartButtonEl.classList.add('colab-df-quickchart-complete');\n",
              "    }\n",
              "    (() => {\n",
              "      let quickchartButtonEl =\n",
              "        document.querySelector('#df-06281053-dfd3-4b31-a121-2c0ba8d9c7e7 button');\n",
              "      quickchartButtonEl.style.display =\n",
              "        google.colab.kernel.accessAllowed ? 'block' : 'none';\n",
              "    })();\n",
              "  </script>\n",
              "</div>\n",
              "\n",
              "    </div>\n",
              "  </div>\n"
            ],
            "application/vnd.google.colaboratory.intrinsic+json": {
              "type": "dataframe",
              "summary": "{\n  \"name\": \"resultados\",\n  \"rows\": 4,\n  \"fields\": [\n    {\n      \"column\": \"Method Seleccion\",\n      \"properties\": {\n        \"dtype\": \"string\",\n        \"num_unique_values\": 4,\n        \"samples\": [\n          \"ExtraTrees\",\n          \"Sem Sele\\u00e7\\u00e3o\",\n          \"Combinado\"\n        ],\n        \"semantic_type\": \"\",\n        \"description\": \"\"\n      }\n    },\n    {\n      \"column\": \"N\\u00b0 de Features\",\n      \"properties\": {\n        \"dtype\": \"number\",\n        \"std\": 1,\n        \"min\": 102,\n        \"max\": 105,\n        \"num_unique_values\": 4,\n        \"samples\": [\n          104,\n          105,\n          102\n        ],\n        \"semantic_type\": \"\",\n        \"description\": \"\"\n      }\n    },\n    {\n      \"column\": \"Accuracy\",\n      \"properties\": {\n        \"dtype\": \"number\",\n        \"std\": 0.6238322424070968,\n        \"min\": 89.7,\n        \"max\": 91.2,\n        \"num_unique_values\": 4,\n        \"samples\": [\n          90.4,\n          89.7,\n          91.2\n        ],\n        \"semantic_type\": \"\",\n        \"description\": \"\"\n      }\n    },\n    {\n      \"column\": \"F1 Score\",\n      \"properties\": {\n        \"dtype\": \"number\",\n        \"std\": 2.9369996027692378,\n        \"min\": 84.58,\n        \"max\": 90.94,\n        \"num_unique_values\": 4,\n        \"samples\": [\n          90.6,\n          84.58,\n          90.94\n        ],\n        \"semantic_type\": \"\",\n        \"description\": \"\"\n      }\n    },\n    {\n      \"column\": \"Precision\",\n      \"properties\": {\n        \"dtype\": \"number\",\n        \"std\": 0.7920648121629085,\n        \"min\": 88.89,\n        \"max\": 90.8,\n        \"num_unique_values\": 4,\n        \"samples\": [\n          90.1,\n          88.89,\n          90.8\n        ],\n        \"semantic_type\": \"\",\n        \"description\": \"\"\n      }\n    },\n    {\n      \"column\": \"Recall\",\n      \"properties\": {\n        \"dtype\": \"number\",\n        \"std\": 0.20287516687197502,\n        \"min\": 90.65,\n        \"max\": 91.13,\n        \"num_unique_values\": 4,\n        \"samples\": [\n          90.65,\n          90.91,\n          91.13\n        ],\n        \"semantic_type\": \"\",\n        \"description\": \"\"\n      }\n    }\n  ]\n}"
            }
          },
          "metadata": {},
          "execution_count": 86
        }
      ]
    }
  ],
  "metadata": {
    "accelerator": "TPU",
    "colab": {
      "gpuType": "V28",
      "provenance": []
    },
    "kernelspec": {
      "display_name": "Python 3",
      "name": "python3"
    },
    "language_info": {
      "name": "python"
    }
  },
  "nbformat": 4,
  "nbformat_minor": 0
}